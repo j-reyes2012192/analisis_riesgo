{
 "cells": [
  {
   "cell_type": "markdown",
   "metadata": {
    "collapsed": false
   },
   "source": [
    "# Análisis del riesgo de incumplimiento de los prestatarios\n",
    "Este proyecto consiste en crear un informe para la división de préstamos de un banco.\n",
    "\n",
    "\n",
    "Los datos son obtenidos directamente del banco e incluyen datos característicos de los clientes así como su historial de incumplimiento. Los datos se analizarán para obtener características a tomar en cuenta al momento de crear una **puntuación de crédito** para un cliente potencial y así poder evaluar la capacidad de este para pagar su préstamo.\n",
    "\n",
    "Se probaran distintas hipótesis para responder las siguientes preguntas:\n",
    "- ¿Hay alguna conexión entre tener hijos y pagar un préstamo a tiempo?\n",
    "- ¿Existe una conexión entre el estado civil y el pago a tiempo de un préstamo?\n",
    "- ¿Existe una conexión entre el nivel de ingresos y el pago a tiempo de un préstamo?\n",
    "- ¿Cómo afectan los diferentes propósitos del préstamo al reembolso a tiempo del préstamo?"
   ]
  },
  {
   "cell_type": "markdown",
   "metadata": {
    "collapsed": false
   },
   "source": [
    "## Inicialización y vista general\n",
    "\n"
   ]
  },
  {
   "cell_type": "code",
   "execution_count": 926,
   "metadata": {
    "collapsed": false
   },
   "outputs": [
   ],
   "source": [
    "# Cargar todas las librerías\n",
    "import pandas as pd\n",
    "\n",
    "# Cargar los datos\n",
    "df = pd.read_csv('/datasets/credit_scoring_eng.csv')"
   ]
  },
  {
   "cell_type": "markdown",
   "metadata": {
    "collapsed": false
   },
   "source": [
    "## Exploración de datos\n",
    "\n",
    "**El dataset contiene los siguientes datos:**\n",
    "\n",
    "- `children` - el número de hijos en la familia\n",
    "- `days_employed` - experiencia laboral en días\n",
    "- `dob_years` - la edad del cliente en años\n",
    "- `education` - la educación del cliente\n",
    "- `education_id` - identificador de educación\n",
    "- `family_status` - estado civil\n",
    "- `family_status_id` - identificador de estado civil\n",
    "- `gender` - género del cliente\n",
    "- `income_type` - tipo de empleo\n",
    "- `debt` - ¿había alguna deuda en el pago de un préstamo?\n",
    "- `total_income` - ingreso mensual\n",
    "- `purpose` - el propósito de obtener un préstamo\n",
    "\n"
   ]
  },
  {
   "cell_type": "code",
   "execution_count": 927,
   "metadata": {
    "collapsed": false
   },
   "outputs": [
    {
     "name": "stdout",
     "output_type": "stream",
     "text": [
      "<class 'pandas.core.frame.DataFrame'>\n",
      "RangeIndex: 21525 entries, 0 to 21524\n",
      "Data columns (total 12 columns):\n",
      " #   Column            Non-Null Count  Dtype  \n",
      "---  ------            --------------  -----  \n",
      " 0   children          21525 non-null  int64  \n",
      " 1   days_employed     19351 non-null  float64\n",
      " 2   dob_years         21525 non-null  int64  \n",
      " 3   education         21525 non-null  object \n",
      " 4   education_id      21525 non-null  int64  \n",
      " 5   family_status     21525 non-null  object \n",
      " 6   family_status_id  21525 non-null  int64  \n",
      " 7   gender            21525 non-null  object \n",
      " 8   income_type       21525 non-null  object \n",
      " 9   debt              21525 non-null  int64  \n",
      " 10  total_income      19351 non-null  float64\n",
      " 11  purpose           21525 non-null  object \n",
      "dtypes: float64(2), int64(5), object(5)\n",
      "memory usage: 2.0+ MB\n"
     ]
    }
   ],
   "source": [
    "#información general\n",
    "df.info()"
   ]
  },
  {
   "cell_type": "code",
   "execution_count": 928,
   "metadata": {
    "collapsed": false,
    "scrolled": true
   },
   "outputs": [
    {
     "data": {
      "text/html": [
       "<div>\n",
       "<style scoped>\n",
       "    .dataframe tbody tr th:only-of-type {\n",
       "        vertical-align: middle;\n",
       "    }\n",
       "\n",
       "    .dataframe tbody tr th {\n",
       "        vertical-align: top;\n",
       "    }\n",
       "\n",
       "    .dataframe thead th {\n",
       "        text-align: right;\n",
       "    }\n",
       "</style>\n",
       "<table border=\"1\" class=\"dataframe\">\n",
       "  <thead>\n",
       "    <tr style=\"text-align: right;\">\n",
       "      <th></th>\n",
       "      <th>children</th>\n",
       "      <th>days_employed</th>\n",
       "      <th>dob_years</th>\n",
       "      <th>education</th>\n",
       "      <th>education_id</th>\n",
       "      <th>family_status</th>\n",
       "      <th>family_status_id</th>\n",
       "      <th>gender</th>\n",
       "      <th>income_type</th>\n",
       "      <th>debt</th>\n",
       "      <th>total_income</th>\n",
       "      <th>purpose</th>\n",
       "    </tr>\n",
       "  </thead>\n",
       "  <tbody>\n",
       "    <tr>\n",
       "      <th>0</th>\n",
       "      <td>1</td>\n",
       "      <td>-8437.673028</td>\n",
       "      <td>42</td>\n",
       "      <td>bachelor's degree</td>\n",
       "      <td>0</td>\n",
       "      <td>married</td>\n",
       "      <td>0</td>\n",
       "      <td>F</td>\n",
       "      <td>employee</td>\n",
       "      <td>0</td>\n",
       "      <td>40620.102</td>\n",
       "      <td>purchase of the house</td>\n",
       "    </tr>\n",
       "    <tr>\n",
       "      <th>1</th>\n",
       "      <td>1</td>\n",
       "      <td>-4024.803754</td>\n",
       "      <td>36</td>\n",
       "      <td>secondary education</td>\n",
       "      <td>1</td>\n",
       "      <td>married</td>\n",
       "      <td>0</td>\n",
       "      <td>F</td>\n",
       "      <td>employee</td>\n",
       "      <td>0</td>\n",
       "      <td>17932.802</td>\n",
       "      <td>car purchase</td>\n",
       "    </tr>\n",
       "    <tr>\n",
       "      <th>2</th>\n",
       "      <td>0</td>\n",
       "      <td>-5623.422610</td>\n",
       "      <td>33</td>\n",
       "      <td>Secondary Education</td>\n",
       "      <td>1</td>\n",
       "      <td>married</td>\n",
       "      <td>0</td>\n",
       "      <td>M</td>\n",
       "      <td>employee</td>\n",
       "      <td>0</td>\n",
       "      <td>23341.752</td>\n",
       "      <td>purchase of the house</td>\n",
       "    </tr>\n",
       "    <tr>\n",
       "      <th>3</th>\n",
       "      <td>3</td>\n",
       "      <td>-4124.747207</td>\n",
       "      <td>32</td>\n",
       "      <td>secondary education</td>\n",
       "      <td>1</td>\n",
       "      <td>married</td>\n",
       "      <td>0</td>\n",
       "      <td>M</td>\n",
       "      <td>employee</td>\n",
       "      <td>0</td>\n",
       "      <td>42820.568</td>\n",
       "      <td>supplementary education</td>\n",
       "    </tr>\n",
       "    <tr>\n",
       "      <th>4</th>\n",
       "      <td>0</td>\n",
       "      <td>340266.072047</td>\n",
       "      <td>53</td>\n",
       "      <td>secondary education</td>\n",
       "      <td>1</td>\n",
       "      <td>civil partnership</td>\n",
       "      <td>1</td>\n",
       "      <td>F</td>\n",
       "      <td>retiree</td>\n",
       "      <td>0</td>\n",
       "      <td>25378.572</td>\n",
       "      <td>to have a wedding</td>\n",
       "    </tr>\n",
       "    <tr>\n",
       "      <th>5</th>\n",
       "      <td>0</td>\n",
       "      <td>-926.185831</td>\n",
       "      <td>27</td>\n",
       "      <td>bachelor's degree</td>\n",
       "      <td>0</td>\n",
       "      <td>civil partnership</td>\n",
       "      <td>1</td>\n",
       "      <td>M</td>\n",
       "      <td>business</td>\n",
       "      <td>0</td>\n",
       "      <td>40922.170</td>\n",
       "      <td>purchase of the house</td>\n",
       "    </tr>\n",
       "    <tr>\n",
       "      <th>6</th>\n",
       "      <td>0</td>\n",
       "      <td>-2879.202052</td>\n",
       "      <td>43</td>\n",
       "      <td>bachelor's degree</td>\n",
       "      <td>0</td>\n",
       "      <td>married</td>\n",
       "      <td>0</td>\n",
       "      <td>F</td>\n",
       "      <td>business</td>\n",
       "      <td>0</td>\n",
       "      <td>38484.156</td>\n",
       "      <td>housing transactions</td>\n",
       "    </tr>\n",
       "    <tr>\n",
       "      <th>7</th>\n",
       "      <td>0</td>\n",
       "      <td>-152.779569</td>\n",
       "      <td>50</td>\n",
       "      <td>SECONDARY EDUCATION</td>\n",
       "      <td>1</td>\n",
       "      <td>married</td>\n",
       "      <td>0</td>\n",
       "      <td>M</td>\n",
       "      <td>employee</td>\n",
       "      <td>0</td>\n",
       "      <td>21731.829</td>\n",
       "      <td>education</td>\n",
       "    </tr>\n",
       "    <tr>\n",
       "      <th>8</th>\n",
       "      <td>2</td>\n",
       "      <td>-6929.865299</td>\n",
       "      <td>35</td>\n",
       "      <td>BACHELOR'S DEGREE</td>\n",
       "      <td>0</td>\n",
       "      <td>civil partnership</td>\n",
       "      <td>1</td>\n",
       "      <td>F</td>\n",
       "      <td>employee</td>\n",
       "      <td>0</td>\n",
       "      <td>15337.093</td>\n",
       "      <td>having a wedding</td>\n",
       "    </tr>\n",
       "    <tr>\n",
       "      <th>9</th>\n",
       "      <td>0</td>\n",
       "      <td>-2188.756445</td>\n",
       "      <td>41</td>\n",
       "      <td>secondary education</td>\n",
       "      <td>1</td>\n",
       "      <td>married</td>\n",
       "      <td>0</td>\n",
       "      <td>M</td>\n",
       "      <td>employee</td>\n",
       "      <td>0</td>\n",
       "      <td>23108.150</td>\n",
       "      <td>purchase of the house for my family</td>\n",
       "    </tr>\n",
       "  </tbody>\n",
       "</table>\n",
       "</div>"
      ],
      "text/plain": [
       "   children  days_employed  dob_years            education  education_id  \\\n",
       "0         1   -8437.673028         42    bachelor's degree             0   \n",
       "1         1   -4024.803754         36  secondary education             1   \n",
       "2         0   -5623.422610         33  Secondary Education             1   \n",
       "3         3   -4124.747207         32  secondary education             1   \n",
       "4         0  340266.072047         53  secondary education             1   \n",
       "5         0    -926.185831         27    bachelor's degree             0   \n",
       "6         0   -2879.202052         43    bachelor's degree             0   \n",
       "7         0    -152.779569         50  SECONDARY EDUCATION             1   \n",
       "8         2   -6929.865299         35    BACHELOR'S DEGREE             0   \n",
       "9         0   -2188.756445         41  secondary education             1   \n",
       "\n",
       "       family_status  family_status_id gender income_type  debt  total_income  \\\n",
       "0            married                 0      F    employee     0     40620.102   \n",
       "1            married                 0      F    employee     0     17932.802   \n",
       "2            married                 0      M    employee     0     23341.752   \n",
       "3            married                 0      M    employee     0     42820.568   \n",
       "4  civil partnership                 1      F     retiree     0     25378.572   \n",
       "5  civil partnership                 1      M    business     0     40922.170   \n",
       "6            married                 0      F    business     0     38484.156   \n",
       "7            married                 0      M    employee     0     21731.829   \n",
       "8  civil partnership                 1      F    employee     0     15337.093   \n",
       "9            married                 0      M    employee     0     23108.150   \n",
       "\n",
       "                               purpose  \n",
       "0                purchase of the house  \n",
       "1                         car purchase  \n",
       "2                purchase of the house  \n",
       "3              supplementary education  \n",
       "4                    to have a wedding  \n",
       "5                purchase of the house  \n",
       "6                 housing transactions  \n",
       "7                            education  \n",
       "8                     having a wedding  \n",
       "9  purchase of the house for my family  "
      ]
     },
     "execution_count": 928,
     "metadata": {
     },
     "output_type": "execute_result"
    }
   ],
   "source": [
    "#vista previa\n",
    "df.head(10)"
   ]
  },
  {
   "cell_type": "markdown",
   "metadata": {
    "collapsed": false
   },
   "source": [
    "Al analizar la información del conjunto de datos se sabe que:\n",
    "- Hay valores ausentes en las columnas `days_employed` y `total_income`\n",
    "- Los valores de la columna `days_employed` son de tipo Float y deberian ser Int\n",
    "- La columna `dob_years` se refiere a la edad del cliente, el nombre de la columna no es muy claro\n",
    "\n",
    "Al ver los primeros renglones se puede observar que:\n",
    "- la columna `days_employed`\ttiene valores negativos\n",
    "- la columna `education` tiene textos iguales en mayusculas y minusculas cosa que los hace diferentes cuando no lo son\n",
    "- la columna `purpose` tiene propositos iguales escritos de diferentes formas"
   ]
  },
  {
   "cell_type": "code",
   "execution_count": 929,
   "metadata": {
    "collapsed": false
   },
   "outputs": [
    {
     "data": {
      "text/plain": [
       "Index(['children', 'days_employed', 'client_age', 'education', 'education_id',\n",
       "       'family_status', 'family_status_id', 'gender', 'income_type', 'debt',\n",
       "       'total_income', 'purpose'],\n",
       "      dtype='object')"
      ]
     },
     "execution_count": 929,
     "metadata": {
     },
     "output_type": "execute_result"
    }
   ],
   "source": [
    "#Se cambia el nombre de la columna 'dob_years' que se refiere a la edad del cliente para hacerla más clara\n",
    "df = df.rename(columns={'dob_years':'client_age'})\n",
    "df.keys()"
   ]
  },
  {
   "cell_type": "code",
   "execution_count": 930,
   "metadata": {
    "collapsed": false,
    "scrolled": true
   },
   "outputs": [
    {
     "data": {
      "text/plain": [
       "children               0\n",
       "days_employed       2174\n",
       "client_age             0\n",
       "education              0\n",
       "education_id           0\n",
       "family_status          0\n",
       "family_status_id       0\n",
       "gender                 0\n",
       "income_type            0\n",
       "debt                   0\n",
       "total_income        2174\n",
       "purpose                0\n",
       "dtype: int64"
      ]
     },
     "execution_count": 930,
     "metadata": {
     },
     "output_type": "execute_result"
    }
   ],
   "source": [
    "# Obtener información sobre los datos\n",
    "df.isna().sum()"
   ]
  },
  {
   "cell_type": "markdown",
   "metadata": {
    "collapsed": false
   },
   "source": [
    "Como se observo anteriormente, hay valores ausentes en las columnas `days_employed` y `total_income`.\n",
    "En ambas columnas faltan el mismo número de datos."
   ]
  },
  {
   "cell_type": "code",
   "execution_count": 931,
   "metadata": {
    "collapsed": false
   },
   "outputs": [
    {
     "data": {
      "text/plain": [
       "children             0.000000\n",
       "days_employed       11.234562\n",
       "client_age           0.000000\n",
       "education            0.000000\n",
       "education_id         0.000000\n",
       "family_status        0.000000\n",
       "family_status_id     0.000000\n",
       "gender               0.000000\n",
       "income_type          0.000000\n",
       "debt                 0.000000\n",
       "total_income        11.234562\n",
       "purpose              0.000000\n",
       "dtype: float64"
      ]
     },
     "execution_count": 931,
     "metadata": {
     },
     "output_type": "execute_result"
    }
   ],
   "source": [
    "df.isna().sum()/df.count()*100"
   ]
  },
  {
   "cell_type": "markdown",
   "metadata": {
    "collapsed": false
   },
   "source": [
    "Más del 11% de los datos de las columnas `days_employed` y `total_income` estan ausentes"
   ]
  },
  {
   "cell_type": "code",
   "execution_count": 932,
   "metadata": {
    "collapsed": false
   },
   "outputs": [
    {
     "data": {
      "text/html": [
       "<div>\n",
       "<style scoped>\n",
       "    .dataframe tbody tr th:only-of-type {\n",
       "        vertical-align: middle;\n",
       "    }\n",
       "\n",
       "    .dataframe tbody tr th {\n",
       "        vertical-align: top;\n",
       "    }\n",
       "\n",
       "    .dataframe thead th {\n",
       "        text-align: right;\n",
       "    }\n",
       "</style>\n",
       "<table border=\"1\" class=\"dataframe\">\n",
       "  <thead>\n",
       "    <tr style=\"text-align: right;\">\n",
       "      <th></th>\n",
       "      <th>children</th>\n",
       "      <th>days_employed</th>\n",
       "      <th>client_age</th>\n",
       "      <th>education</th>\n",
       "      <th>education_id</th>\n",
       "      <th>family_status</th>\n",
       "      <th>family_status_id</th>\n",
       "      <th>gender</th>\n",
       "      <th>income_type</th>\n",
       "      <th>debt</th>\n",
       "      <th>total_income</th>\n",
       "      <th>purpose</th>\n",
       "    </tr>\n",
       "  </thead>\n",
       "  <tbody>\n",
       "    <tr>\n",
       "      <th>12</th>\n",
       "      <td>0</td>\n",
       "      <td>NaN</td>\n",
       "      <td>65</td>\n",
       "      <td>secondary education</td>\n",
       "      <td>1</td>\n",
       "      <td>civil partnership</td>\n",
       "      <td>1</td>\n",
       "      <td>M</td>\n",
       "      <td>retiree</td>\n",
       "      <td>0</td>\n",
       "      <td>NaN</td>\n",
       "      <td>to have a wedding</td>\n",
       "    </tr>\n",
       "    <tr>\n",
       "      <th>26</th>\n",
       "      <td>0</td>\n",
       "      <td>NaN</td>\n",
       "      <td>41</td>\n",
       "      <td>secondary education</td>\n",
       "      <td>1</td>\n",
       "      <td>married</td>\n",
       "      <td>0</td>\n",
       "      <td>M</td>\n",
       "      <td>civil servant</td>\n",
       "      <td>0</td>\n",
       "      <td>NaN</td>\n",
       "      <td>education</td>\n",
       "    </tr>\n",
       "    <tr>\n",
       "      <th>29</th>\n",
       "      <td>0</td>\n",
       "      <td>NaN</td>\n",
       "      <td>63</td>\n",
       "      <td>secondary education</td>\n",
       "      <td>1</td>\n",
       "      <td>unmarried</td>\n",
       "      <td>4</td>\n",
       "      <td>F</td>\n",
       "      <td>retiree</td>\n",
       "      <td>0</td>\n",
       "      <td>NaN</td>\n",
       "      <td>building a real estate</td>\n",
       "    </tr>\n",
       "    <tr>\n",
       "      <th>41</th>\n",
       "      <td>0</td>\n",
       "      <td>NaN</td>\n",
       "      <td>50</td>\n",
       "      <td>secondary education</td>\n",
       "      <td>1</td>\n",
       "      <td>married</td>\n",
       "      <td>0</td>\n",
       "      <td>F</td>\n",
       "      <td>civil servant</td>\n",
       "      <td>0</td>\n",
       "      <td>NaN</td>\n",
       "      <td>second-hand car purchase</td>\n",
       "    </tr>\n",
       "    <tr>\n",
       "      <th>55</th>\n",
       "      <td>0</td>\n",
       "      <td>NaN</td>\n",
       "      <td>54</td>\n",
       "      <td>secondary education</td>\n",
       "      <td>1</td>\n",
       "      <td>civil partnership</td>\n",
       "      <td>1</td>\n",
       "      <td>F</td>\n",
       "      <td>retiree</td>\n",
       "      <td>1</td>\n",
       "      <td>NaN</td>\n",
       "      <td>to have a wedding</td>\n",
       "    </tr>\n",
       "    <tr>\n",
       "      <th>...</th>\n",
       "      <td>...</td>\n",
       "      <td>...</td>\n",
       "      <td>...</td>\n",
       "      <td>...</td>\n",
       "      <td>...</td>\n",
       "      <td>...</td>\n",
       "      <td>...</td>\n",
       "      <td>...</td>\n",
       "      <td>...</td>\n",
       "      <td>...</td>\n",
       "      <td>...</td>\n",
       "      <td>...</td>\n",
       "    </tr>\n",
       "    <tr>\n",
       "      <th>21489</th>\n",
       "      <td>2</td>\n",
       "      <td>NaN</td>\n",
       "      <td>47</td>\n",
       "      <td>Secondary Education</td>\n",
       "      <td>1</td>\n",
       "      <td>married</td>\n",
       "      <td>0</td>\n",
       "      <td>M</td>\n",
       "      <td>business</td>\n",
       "      <td>0</td>\n",
       "      <td>NaN</td>\n",
       "      <td>purchase of a car</td>\n",
       "    </tr>\n",
       "    <tr>\n",
       "      <th>21495</th>\n",
       "      <td>1</td>\n",
       "      <td>NaN</td>\n",
       "      <td>50</td>\n",
       "      <td>secondary education</td>\n",
       "      <td>1</td>\n",
       "      <td>civil partnership</td>\n",
       "      <td>1</td>\n",
       "      <td>F</td>\n",
       "      <td>employee</td>\n",
       "      <td>0</td>\n",
       "      <td>NaN</td>\n",
       "      <td>wedding ceremony</td>\n",
       "    </tr>\n",
       "    <tr>\n",
       "      <th>21497</th>\n",
       "      <td>0</td>\n",
       "      <td>NaN</td>\n",
       "      <td>48</td>\n",
       "      <td>BACHELOR'S DEGREE</td>\n",
       "      <td>0</td>\n",
       "      <td>married</td>\n",
       "      <td>0</td>\n",
       "      <td>F</td>\n",
       "      <td>business</td>\n",
       "      <td>0</td>\n",
       "      <td>NaN</td>\n",
       "      <td>building a property</td>\n",
       "    </tr>\n",
       "    <tr>\n",
       "      <th>21502</th>\n",
       "      <td>1</td>\n",
       "      <td>NaN</td>\n",
       "      <td>42</td>\n",
       "      <td>secondary education</td>\n",
       "      <td>1</td>\n",
       "      <td>married</td>\n",
       "      <td>0</td>\n",
       "      <td>F</td>\n",
       "      <td>employee</td>\n",
       "      <td>0</td>\n",
       "      <td>NaN</td>\n",
       "      <td>building a real estate</td>\n",
       "    </tr>\n",
       "    <tr>\n",
       "      <th>21510</th>\n",
       "      <td>2</td>\n",
       "      <td>NaN</td>\n",
       "      <td>28</td>\n",
       "      <td>secondary education</td>\n",
       "      <td>1</td>\n",
       "      <td>married</td>\n",
       "      <td>0</td>\n",
       "      <td>F</td>\n",
       "      <td>employee</td>\n",
       "      <td>0</td>\n",
       "      <td>NaN</td>\n",
       "      <td>car purchase</td>\n",
       "    </tr>\n",
       "  </tbody>\n",
       "</table>\n",
       "<p>2174 rows × 12 columns</p>\n",
       "</div>"
      ],
      "text/plain": [
       "       children  days_employed  client_age            education  education_id  \\\n",
       "12            0            NaN          65  secondary education             1   \n",
       "26            0            NaN          41  secondary education             1   \n",
       "29            0            NaN          63  secondary education             1   \n",
       "41            0            NaN          50  secondary education             1   \n",
       "55            0            NaN          54  secondary education             1   \n",
       "...         ...            ...         ...                  ...           ...   \n",
       "21489         2            NaN          47  Secondary Education             1   \n",
       "21495         1            NaN          50  secondary education             1   \n",
       "21497         0            NaN          48    BACHELOR'S DEGREE             0   \n",
       "21502         1            NaN          42  secondary education             1   \n",
       "21510         2            NaN          28  secondary education             1   \n",
       "\n",
       "           family_status  family_status_id gender    income_type  debt  \\\n",
       "12     civil partnership                 1      M        retiree     0   \n",
       "26               married                 0      M  civil servant     0   \n",
       "29             unmarried                 4      F        retiree     0   \n",
       "41               married                 0      F  civil servant     0   \n",
       "55     civil partnership                 1      F        retiree     1   \n",
       "...                  ...               ...    ...            ...   ...   \n",
       "21489            married                 0      M       business     0   \n",
       "21495  civil partnership                 1      F       employee     0   \n",
       "21497            married                 0      F       business     0   \n",
       "21502            married                 0      F       employee     0   \n",
       "21510            married                 0      F       employee     0   \n",
       "\n",
       "       total_income                   purpose  \n",
       "12              NaN         to have a wedding  \n",
       "26              NaN                 education  \n",
       "29              NaN    building a real estate  \n",
       "41              NaN  second-hand car purchase  \n",
       "55              NaN         to have a wedding  \n",
       "...             ...                       ...  \n",
       "21489           NaN         purchase of a car  \n",
       "21495           NaN          wedding ceremony  \n",
       "21497           NaN       building a property  \n",
       "21502           NaN    building a real estate  \n",
       "21510           NaN              car purchase  \n",
       "\n",
       "[2174 rows x 12 columns]"
      ]
     },
     "execution_count": 932,
     "metadata": {
     },
     "output_type": "execute_result"
    }
   ],
   "source": [
    "# Veamos la tabla filtrada con valores ausentes de la primera columna donde faltan datos\n",
    "df_filtered_isna = df[df['days_employed'].isna()==True]\n",
    "df_filtered_isna"
   ]
  },
  {
   "cell_type": "markdown",
   "metadata": {
    "collapsed": false
   },
   "source": [
    "Aparentemente todas las filas con valores ausentes de la columna `days_employed` también tienen valores ausentes en la columna `total_income`.\n",
    "\n"
   ]
  },
  {
   "cell_type": "code",
   "execution_count": 933,
   "metadata": {
    "collapsed": false
   },
   "outputs": [
    {
     "name": "stdout",
     "output_type": "stream",
     "text": [
      "<class 'pandas.core.frame.DataFrame'>\n",
      "Int64Index: 2174 entries, 12 to 21510\n",
      "Data columns (total 12 columns):\n",
      " #   Column            Non-Null Count  Dtype  \n",
      "---  ------            --------------  -----  \n",
      " 0   children          2174 non-null   int64  \n",
      " 1   days_employed     0 non-null      float64\n",
      " 2   client_age        2174 non-null   int64  \n",
      " 3   education         2174 non-null   object \n",
      " 4   education_id      2174 non-null   int64  \n",
      " 5   family_status     2174 non-null   object \n",
      " 6   family_status_id  2174 non-null   int64  \n",
      " 7   gender            2174 non-null   object \n",
      " 8   income_type       2174 non-null   object \n",
      " 9   debt              2174 non-null   int64  \n",
      " 10  total_income      0 non-null      float64\n",
      " 11  purpose           2174 non-null   object \n",
      "dtypes: float64(2), int64(5), object(5)\n",
      "memory usage: 220.8+ KB\n"
     ]
    }
   ],
   "source": [
    "# Apliquemos múltiples condiciones para filtrar datos y veamos el número de filas en la tabla filtrada.\n",
    "df_filtered_isna.info()"
   ]
  },
  {
   "cell_type": "markdown",
   "metadata": {
    "collapsed": false
   },
   "source": [
    "**Conclusión intermedia**\n",
    "\n",
    "El número de filas en la tabla filtrada coincide con el número de valores ausentes, esto confirma que las filas con valores ausentes en la columna `days_employed` también tienen valores ausentes en la columna `total_income`.\n",
    "Esto podría deberse a que las personas que tienen 0 días trabajando, no tienen ingresos.\n",
    "\n",
    "Se analiza esta hipótesis y se procede a calcular el porcentaje de los valores ausentes en comparación con el conjunto de datos completo para saber si la porción es considerablemente grande y saber si afecta el análisis."
   ]
  },
  {
   "cell_type": "code",
   "execution_count": 934,
   "metadata": {
    "collapsed": false
   },
   "outputs": [
    {
     "data": {
      "text/plain": [
       "income_type\n",
       "business          508\n",
       "civil servant     147\n",
       "employee         1105\n",
       "entrepreneur        1\n",
       "retiree           413\n",
       "Name: children, dtype: int64"
      ]
     },
     "execution_count": 934,
     "metadata": {
     },
     "output_type": "execute_result"
    }
   ],
   "source": [
    "# Vamos a investigar a los clientes que no tienen datos sobre la característica identificada y la columna con los valores ausentes\n",
    "df_filtered_isna.groupby('income_type')['children'].count()"
   ]
  },
  {
   "cell_type": "markdown",
   "metadata": {
    "collapsed": false
   },
   "source": [
    "Se observa que no hay clientes con `income_type` de 'unemployed' por lo que la hipotesis anterior no es correcta."
   ]
  },
  {
   "cell_type": "markdown",
   "metadata": {
    "collapsed": false
   },
   "source": [
    "\n",
    "**Posibles razones por las que hay valores ausentes en los datos**\n",
    "\n",
    "Es posible que no todos los clientes hayan dado la información de la columna `days_employed` por que no estaban seguros de qué responder. Asimismo, no todas las personas se sienten cómodas informando cuanto ganan al mes, cosa que provocó valores ausentes en la columna `total_income`. Esto también podría deberse a un error a la hora de capturar los datos."
   ]
  },
  {
   "cell_type": "markdown",
   "metadata": {
    "collapsed": false
   },
   "source": [
    "Se sabe que más del 11% de las filas de la tabla no tienen valores en la columna `days_employed` ni en `total_income`, cosa que afecta el analisis, por lo que hay que llenar los valores ausentes con valores representativos para poder continuar con el análisis. \n"
   ]
  },
  {
   "cell_type": "markdown",
   "metadata": {
    "collapsed": false
   },
   "source": [
    "## Transformación de datos\n",
    "\n",
    "Se anlizan los valores de cada columna para encontrar posibles problemas en ellas como duplicados y corrección de datos.\n",
    "\n",
    "Se analiza la columna `education`\n",
    "\n"
   ]
  },
  {
   "cell_type": "code",
   "execution_count": 936,
   "metadata": {
    "collapsed": false,
    "scrolled": true
   },
   "outputs": [
    {
     "data": {
      "text/plain": [
       "array([\"BACHELOR'S DEGREE\", \"Bachelor's Degree\", 'GRADUATE DEGREE',\n",
       "       'Graduate Degree', 'PRIMARY EDUCATION', 'Primary Education',\n",
       "       'SECONDARY EDUCATION', 'SOME COLLEGE', 'Secondary Education',\n",
       "       'Some College', \"bachelor's degree\", 'graduate degree',\n",
       "       'primary education', 'secondary education', 'some college'],\n",
       "      dtype=object)"
      ]
     },
     "execution_count": 936,
     "metadata": {
     },
     "output_type": "execute_result"
    }
   ],
   "source": [
    "#distribución de los valores en la columna educación\n",
    "df['education'].sort_values().unique()"
   ]
  },
  {
   "cell_type": "markdown",
   "metadata": {
    "collapsed": false
   },
   "source": [
    "Hay datos duplicados en la columna anterior debido a que unos estan en mayúsculas y otros en minúsculas.\n"
   ]
  },
  {
   "cell_type": "code",
   "execution_count": 937,
   "metadata": {
    "collapsed": false,
    "scrolled": true
   },
   "outputs": [
   ],
   "source": [
    "#Establecer datos de la columna en minúsculas\n",
    "df['education'] = df['education'].str.lower()"
   ]
  },
  {
   "cell_type": "code",
   "execution_count": 938,
   "metadata": {
    "collapsed": false
   },
   "outputs": [
    {
     "data": {
      "text/plain": [
       "array([\"bachelor's degree\", 'graduate degree', 'primary education',\n",
       "       'secondary education', 'some college'], dtype=object)"
      ]
     },
     "execution_count": 938,
     "metadata": {
     },
     "output_type": "execute_result"
    }
   ],
   "source": [
    "# Comprobar cambios\n",
    "df['education'].sort_values().unique()"
   ]
  },
  {
   "cell_type": "markdown",
   "metadata": {
    "collapsed": false
   },
   "source": [
    "Se analiza la columna `children`"
   ]
  },
  {
   "cell_type": "code",
   "execution_count": 939,
   "metadata": {
    "collapsed": false,
    "scrolled": true
   },
   "outputs": [
    {
     "data": {
      "text/plain": [
       "children\n",
       "-1        47\n",
       " 0     14149\n",
       " 1      4818\n",
       " 2      2055\n",
       " 3       330\n",
       " 4        41\n",
       " 5         9\n",
       " 20       76\n",
       "Name: education, dtype: int64"
      ]
     },
     "execution_count": 939,
     "metadata": {
     },
     "output_type": "execute_result"
    }
   ],
   "source": [
    "#distribución de los valores en la columna children\n",
    "df.groupby('children')['education'].count()"
   ]
  },
  {
   "cell_type": "markdown",
   "metadata": {
    "collapsed": false
   },
   "source": [
    "Según los datos, hay clientes con -1 hijos y hay una cantidad significativa de clientes con 20 hijos cosa que es poco probable.\n",
    "Se determinará el porcentaje de estos datos problemáticos."
   ]
  },
  {
   "cell_type": "code",
   "execution_count": 2,
   "metadata": {
    "collapsed": false
   },
   "outputs": [
    {
     "data": {
      "text/plain": [
       "'El porcentaje de datos problematicos es 0.57%'"
      ]
     },
     "execution_count": 2,
     "metadata": {
     },
     "output_type": "execute_result"
    }
   ],
   "source": [
    "f'El porcentaje de datos problematicos es {((47+76)/21525):.2%}'"
   ]
  },
  {
   "cell_type": "markdown",
   "metadata": {
    "collapsed": false
   },
   "source": [
    "El porcentaje de datos es mínimo por lo que se pueden eliminar estas filas sin afectar el análisis."
   ]
  },
  {
   "cell_type": "code",
   "execution_count": 941,
   "metadata": {
    "collapsed": false
   },
   "outputs": [
   ],
   "source": [
    "#se eliminan las filas donde el número de hijos es de -1 ó 20\n",
    "df =  df [df['children'] != -1]\n",
    "df =  df [df['children'] != 20]"
   ]
  },
  {
   "cell_type": "code",
   "execution_count": 942,
   "metadata": {
    "collapsed": false
   },
   "outputs": [
    {
     "data": {
      "text/plain": [
       "children\n",
       "0    14149\n",
       "1     4818\n",
       "2     2055\n",
       "3      330\n",
       "4       41\n",
       "5        9\n",
       "Name: education, dtype: int64"
      ]
     },
     "execution_count": 942,
     "metadata": {
     },
     "output_type": "execute_result"
    }
   ],
   "source": [
    "# Comprobar datos de columna children\n",
    "df.groupby('children')['education'].count()"
   ]
  },
  {
   "cell_type": "markdown",
   "metadata": {
    "collapsed": false
   },
   "source": [
    "Se analiza la columna `days_employed`\n",
    "\n",
    "Se sabe que la columna es de tipo Float y no Int, por lo que podría haber valores decimales. Asimismo, se observaron valores negativos. "
   ]
  },
  {
   "cell_type": "code",
   "execution_count": 943,
   "metadata": {
    "collapsed": false,
    "scrolled": true
   },
   "outputs": [
    {
     "data": {
      "text/plain": [
       "days_employed\n",
       "-18388.949901     1\n",
       "-17615.563266     1\n",
       "-16593.472817     1\n",
       "-16264.699501     1\n",
       "-16119.687737     1\n",
       "                 ..\n",
       " 401663.850046    1\n",
       " 401674.466633    1\n",
       " 401675.093434    1\n",
       " 401715.811749    1\n",
       " 401755.400475    1\n",
       "Name: education, Length: 19240, dtype: int64"
      ]
     },
     "execution_count": 943,
     "metadata": {
     },
     "output_type": "execute_result"
    }
   ],
   "source": [
    "# Se examinan datos problemáticos en days_employed\n",
    "df.groupby('days_employed')['education'].count()"
   ]
  },
  {
   "cell_type": "code",
   "execution_count": 944,
   "metadata": {
    "collapsed": false
   },
   "outputs": [
    {
     "data": {
      "text/plain": [
       "'el porcentaje de números negativos en la columna days_employed es de 73.44%'"
      ]
     },
     "execution_count": 944,
     "metadata": {
     },
     "output_type": "execute_result"
    }
   ],
   "source": [
    "#Se buscan numeros negativos\n",
    "neg_days = df[df['days_employed']<0]['days_employed'].count()\n",
    "f'el porcentaje de números negativos en la columna days_employed es de {(neg_days/total_rows):.2%}'"
   ]
  },
  {
   "cell_type": "markdown",
   "metadata": {
    "collapsed": false
   },
   "source": [
    "La cantidad de datos problemáticos es considerablemente alta, esto podría deberse a problemas técnicos. \n",
    "\n",
    "No se pueden eliminar estas filas problemáticas así que se asumira que no hay valores negativos cambiando todos los valores a positivos."
   ]
  },
  {
   "cell_type": "code",
   "execution_count": 945,
   "metadata": {
    "collapsed": false
   },
   "outputs": [
   ],
   "source": [
    "#Se abordan los datos problematicos: los valores positivos se hacen negativos y se eliminan los decimales\n",
    "df['days_employed'] = df['days_employed'].abs()"
   ]
  },
  {
   "cell_type": "code",
   "execution_count": 946,
   "metadata": {
    "collapsed": false
   },
   "outputs": [
    {
     "data": {
      "text/plain": [
       "0"
      ]
     },
     "execution_count": 946,
     "metadata": {
     },
     "output_type": "execute_result"
    }
   ],
   "source": [
    "# Comprobar datos de columna days_employed\n",
    "df[df['days_employed']<0]['days_employed'].count()"
   ]
  },
  {
   "cell_type": "markdown",
   "metadata": {
    "collapsed": false
   },
   "source": [
    "Se analiza la columna `client_age`"
   ]
  },
  {
   "cell_type": "code",
   "execution_count": 947,
   "metadata": {
    "collapsed": false,
    "scrolled": true
   },
   "outputs": [
    {
     "data": {
      "text/plain": [
       "client_age\n",
       "0     100\n",
       "19     14\n",
       "20     51\n",
       "21    110\n",
       "22    183\n",
       "23    252\n",
       "24    263\n",
       "25    356\n",
       "26    406\n",
       "27    490\n",
       "28    501\n",
       "29    543\n",
       "30    536\n",
       "31    556\n",
       "32    506\n",
       "33    577\n",
       "34    597\n",
       "35    614\n",
       "36    553\n",
       "37    531\n",
       "38    595\n",
       "39    572\n",
       "40    603\n",
       "41    603\n",
       "42    592\n",
       "43    510\n",
       "44    543\n",
       "45    494\n",
       "46    469\n",
       "47    480\n",
       "48    536\n",
       "49    505\n",
       "50    509\n",
       "51    446\n",
       "52    483\n",
       "53    457\n",
       "54    476\n",
       "55    441\n",
       "56    482\n",
       "57    457\n",
       "58    461\n",
       "59    441\n",
       "60    376\n",
       "61    353\n",
       "62    351\n",
       "63    268\n",
       "64    263\n",
       "65    194\n",
       "66    183\n",
       "67    167\n",
       "68     99\n",
       "69     83\n",
       "70     65\n",
       "71     58\n",
       "72     33\n",
       "73      8\n",
       "74      6\n",
       "75      1\n",
       "Name: education, dtype: int64"
      ]
     },
     "execution_count": 947,
     "metadata": {
     },
     "output_type": "execute_result"
    }
   ],
   "source": [
    "#Se examina columna client_age\n",
    "df.groupby('client_age')['education'].count()"
   ]
  },
  {
   "cell_type": "code",
   "execution_count": 948,
   "metadata": {
    "collapsed": false
   },
   "outputs": [
    {
     "data": {
      "text/plain": [
       "'el porcentaje de valores de edad de 0 en la columna client_age es de 0.47%'"
      ]
     },
     "execution_count": 948,
     "metadata": {
     },
     "output_type": "execute_result"
    }
   ],
   "source": [
    "#Se obtiene el valor de datos problematicos en la edad, que son las filas con clientes de edad 0.\n",
    "f'el porcentaje de valores de edad de 0 en la columna client_age es de {(101/total_rows):.2%}'"
   ]
  },
  {
   "cell_type": "markdown",
   "metadata": {
    "collapsed": false
   },
   "source": [
    "El porcentaje de clientes con edad de 0 no es alto, por lo que estos valores se cambian por un valor representativo"
   ]
  },
  {
   "cell_type": "code",
   "execution_count": 949,
   "metadata": {
    "collapsed": false
   },
   "outputs": [
   ],
   "source": [
    "#Corregir datos de columna client_age\n",
    "years_mean = df['client_age'].mean().round(decimals=2)\n",
    "df['client_age'] = df['client_age'].replace(0, years_mean)"
   ]
  },
  {
   "cell_type": "code",
   "execution_count": 950,
   "metadata": {
    "collapsed": false
   },
   "outputs": [
    {
     "data": {
      "text/plain": [
       "client_age\n",
       "19.0     14\n",
       "20.0     51\n",
       "21.0    110\n",
       "22.0    183\n",
       "23.0    252\n",
       "24.0    263\n",
       "25.0    356\n",
       "26.0    406\n",
       "27.0    490\n",
       "28.0    501\n",
       "29.0    543\n",
       "30.0    536\n",
       "31.0    556\n",
       "32.0    506\n",
       "33.0    577\n",
       "34.0    597\n",
       "35.0    614\n",
       "36.0    553\n",
       "37.0    531\n",
       "38.0    595\n",
       "39.0    572\n",
       "40.0    603\n",
       "41.0    603\n",
       "42.0    592\n",
       "43.0    510\n",
       "43.3    100\n",
       "44.0    543\n",
       "45.0    494\n",
       "46.0    469\n",
       "47.0    480\n",
       "48.0    536\n",
       "49.0    505\n",
       "50.0    509\n",
       "51.0    446\n",
       "52.0    483\n",
       "53.0    457\n",
       "54.0    476\n",
       "55.0    441\n",
       "56.0    482\n",
       "57.0    457\n",
       "58.0    461\n",
       "59.0    441\n",
       "60.0    376\n",
       "61.0    353\n",
       "62.0    351\n",
       "63.0    268\n",
       "64.0    263\n",
       "65.0    194\n",
       "66.0    183\n",
       "67.0    167\n",
       "68.0     99\n",
       "69.0     83\n",
       "70.0     65\n",
       "71.0     58\n",
       "72.0     33\n",
       "73.0      8\n",
       "74.0      6\n",
       "75.0      1\n",
       "Name: education, dtype: int64"
      ]
     },
     "execution_count": 950,
     "metadata": {
     },
     "output_type": "execute_result"
    }
   ],
   "source": [
    "# Comprobar datos de columna client_age\n",
    "df.groupby('client_age')['education'].count()"
   ]
  },
  {
   "cell_type": "markdown",
   "metadata": {
    "collapsed": false
   },
   "source": [
    "Se analiza la columna `family_status`"
   ]
  },
  {
   "cell_type": "code",
   "execution_count": 951,
   "metadata": {
    "collapsed": false
   },
   "outputs": [
    {
     "data": {
      "text/plain": [
       "family_status\n",
       "civil partnership     4160\n",
       "divorced              1189\n",
       "married              12302\n",
       "unmarried             2799\n",
       "widow / widower        952\n",
       "Name: education, dtype: int64"
      ]
     },
     "execution_count": 951,
     "metadata": {
     },
     "output_type": "execute_result"
    }
   ],
   "source": [
    "#Se revisa la columna 'family_status' \n",
    "df.groupby('family_status')['education'].count()"
   ]
  },
  {
   "cell_type": "markdown",
   "metadata": {
    "collapsed": false
   },
   "source": [
    "No se encuentran valores extraños en la columna `family_status`"
   ]
  },
  {
   "cell_type": "markdown",
   "metadata": {
    "collapsed": false
   },
   "source": [
    "Se analiza la columna `gender`"
   ]
  },
  {
   "cell_type": "code",
   "execution_count": 952,
   "metadata": {
    "collapsed": false
   },
   "outputs": [
    {
     "data": {
      "text/plain": [
       "gender\n",
       "F      14154\n",
       "M       7247\n",
       "XNA        1\n",
       "Name: education, dtype: int64"
      ]
     },
     "execution_count": 952,
     "metadata": {
     },
     "output_type": "execute_result"
    }
   ],
   "source": [
    "#Se revisa la columna 'gender' \n",
    "df.groupby('gender')['education'].count()"
   ]
  },
  {
   "cell_type": "code",
   "execution_count": 953,
   "metadata": {
    "collapsed": false
   },
   "outputs": [
   ],
   "source": [
    "#Se encuentra un valor extraño, como no se sabe si es hombre o mujer se establece como desconocido.\n",
    "df['gender'] = df['gender'].replace('XNA', 'unknown')"
   ]
  },
  {
   "cell_type": "code",
   "execution_count": 954,
   "metadata": {
    "collapsed": false
   },
   "outputs": [
    {
     "data": {
      "text/plain": [
       "gender\n",
       "F          14154\n",
       "M           7247\n",
       "unknown        1\n",
       "Name: education, dtype: int64"
      ]
     },
     "execution_count": 954,
     "metadata": {
     },
     "output_type": "execute_result"
    }
   ],
   "source": [
    "#Se comprueba el cambio\n",
    "df.groupby('gender')['education'].count()"
   ]
  },
  {
   "cell_type": "markdown",
   "metadata": {
    "collapsed": false
   },
   "source": [
    "Se analiza la columna `income_type`\n",
    "\n"
   ]
  },
  {
   "cell_type": "code",
   "execution_count": 955,
   "metadata": {
    "collapsed": false
   },
   "outputs": [
    {
     "data": {
      "text/plain": [
       "income_type\n",
       "business                        5054\n",
       "civil servant                   1453\n",
       "employee                       11050\n",
       "entrepreneur                       2\n",
       "paternity / maternity leave        1\n",
       "retiree                         3839\n",
       "student                            1\n",
       "unemployed                         2\n",
       "Name: education, dtype: int64"
      ]
     },
     "execution_count": 955,
     "metadata": {
     },
     "output_type": "execute_result"
    }
   ],
   "source": [
    "#Se examina columna income_type\n",
    "df.groupby('income_type')['education'].count()"
   ]
  },
  {
   "cell_type": "markdown",
   "metadata": {
    "collapsed": false
   },
   "source": [
    "No se encuentran datos extraños en la columna `income_type`\n",
    "\n",
    "Se analiza la columna `total_income`"
   ]
  },
  {
   "cell_type": "code",
   "execution_count": 956,
   "metadata": {
    "collapsed": false
   },
   "outputs": [
    {
     "data": {
      "text/plain": [
       "total_income\n",
       "3306.762      1\n",
       "3392.845      1\n",
       "3418.824      1\n",
       "3471.216      1\n",
       "3503.298      1\n",
       "             ..\n",
       "273809.483    1\n",
       "274402.943    1\n",
       "276204.162    1\n",
       "352136.354    1\n",
       "362496.645    1\n",
       "Name: education, Length: 19237, dtype: int64"
      ]
     },
     "execution_count": 956,
     "metadata": {
     },
     "output_type": "execute_result"
    }
   ],
   "source": [
    "#Se examina columna total_income\n",
    "df.groupby('total_income')['education'].count()"
   ]
  },
  {
   "cell_type": "markdown",
   "metadata": {
    "collapsed": false
   },
   "source": [
    "No se encuentran valores negativos o extraños en esta columna.\n",
    "\n",
    "Se analiza la columna `purpose`"
   ]
  },
  {
   "cell_type": "code",
   "execution_count": 957,
   "metadata": {
    "collapsed": false
   },
   "outputs": [
    {
     "data": {
      "text/plain": [
       "array(['building a property', 'building a real estate',\n",
       "       'buy commercial real estate', 'buy real estate',\n",
       "       'buy residential real estate', 'buying a second-hand car',\n",
       "       'buying my own car', 'buying property for renting out', 'car',\n",
       "       'car purchase', 'cars', 'construction of own property',\n",
       "       'education', 'getting an education', 'getting higher education',\n",
       "       'going to university', 'having a wedding', 'housing',\n",
       "       'housing renovation', 'housing transactions', 'profile education',\n",
       "       'property', 'purchase of a car', 'purchase of my own house',\n",
       "       'purchase of the house', 'purchase of the house for my family',\n",
       "       'real estate transactions', 'second-hand car purchase',\n",
       "       'supplementary education', 'to become educated', 'to buy a car',\n",
       "       'to get a supplementary education', 'to have a wedding',\n",
       "       'to own a car', 'transactions with commercial real estate',\n",
       "       'transactions with my real estate', 'university education',\n",
       "       'wedding ceremony'], dtype=object)"
      ]
     },
     "execution_count": 957,
     "metadata": {
     },
     "output_type": "execute_result"
    }
   ],
   "source": [
    "df['purpose'].sort_values().unique()"
   ]
  },
  {
   "cell_type": "markdown",
   "metadata": {
    "collapsed": false
   },
   "source": [
    "En la columna de proposito, hay datos que se refieren a lo mismo pero estan escritos de diferente forma por lo que se modifican"
   ]
  },
  {
   "cell_type": "code",
   "execution_count": 958,
   "metadata": {
    "collapsed": false
   },
   "outputs": [
   ],
   "source": [
    "#Función que recibe una lista de valores incorrectos y el valor correcto\n",
    "def replace_wrong_values(wrong_values, correct_value): \n",
    "    for wrong_value in wrong_values:\n",
    "        df['purpose'] = df['purpose'].replace(wrong_value, correct_value) "
   ]
  },
  {
   "cell_type": "code",
   "execution_count": 959,
   "metadata": {
    "collapsed": false
   },
   "outputs": [
   ],
   "source": [
    "education_list = ['education', 'getting an education', 'getting higher education','going to university','profile education',\n",
    "                  'supplementary education','to become educated','to get a supplementary education','university education']\n",
    "car_list = ['buying a second-hand car', 'buying my own car', 'car purchase', 'cars', 'second-hand car purchase', 'to buy a car',\n",
    "            'to own a car', 'purchase of a car']\n",
    "house_list = ['purchase of my own house','purchase of the house','purchase of the house for my family']\n",
    "wedding_list = ['having a wedding', 'to have a wedding','wedding ceremony']\n",
    "\n",
    "\n",
    "replace_wrong_values(education_list, 'education')\n",
    "replace_wrong_values(car_list,'car')\n",
    "replace_wrong_values(house_list,'purchase of house')\n",
    "replace_wrong_values(wedding_list,'wedding')\n",
    "df['purpose'] = df['purpose'].replace('transactions with my real estate', 'real estate transactions') "
   ]
  },
  {
   "cell_type": "code",
   "execution_count": 960,
   "metadata": {
    "collapsed": false
   },
   "outputs": [
    {
     "data": {
      "text/plain": [
       "array(['building a property', 'building a real estate',\n",
       "       'buy commercial real estate', 'buy real estate',\n",
       "       'buy residential real estate', 'buying property for renting out',\n",
       "       'car', 'construction of own property', 'education', 'housing',\n",
       "       'housing renovation', 'housing transactions', 'property',\n",
       "       'purchase of house', 'real estate transactions',\n",
       "       'transactions with commercial real estate', 'wedding'],\n",
       "      dtype=object)"
      ]
     },
     "execution_count": 960,
     "metadata": {
     },
     "output_type": "execute_result"
    }
   ],
   "source": [
    "df['purpose'].sort_values().unique()"
   ]
  },
  {
   "cell_type": "markdown",
   "metadata": {
    "collapsed": false
   },
   "source": [
    "Los datos únicos de propósito se reducen sin mezclar propositos similares\n",
    "\n",
    "A continuación se analizan los datos en busca de duplicados"
   ]
  },
  {
   "cell_type": "code",
   "execution_count": 961,
   "metadata": {
    "collapsed": false
   },
   "outputs": [
    {
     "data": {
      "text/plain": [
       "185"
      ]
     },
     "execution_count": 961,
     "metadata": {
     },
     "output_type": "execute_result"
    }
   ],
   "source": [
    "# Comprobar los duplicados\n",
    "df.duplicated().sum()"
   ]
  },
  {
   "cell_type": "markdown",
   "metadata": {
    "collapsed": false
   },
   "source": [
    "Se encontraron filas con valores aparentemente duplicados; sin embargo, no se tiene una identificación por cliente cosa que no nos permite saber si se duplicaron datos de un solo cliente o si simplemente hay diferentes clientes con los mismos valores."
   ]
  },
  {
   "cell_type": "code",
   "execution_count": 962,
   "metadata": {
    "collapsed": false
   },
   "outputs": [
    {
     "name": "stdout",
     "output_type": "stream",
     "text": [
      "<class 'pandas.core.frame.DataFrame'>\n",
      "Int64Index: 21402 entries, 0 to 21524\n",
      "Data columns (total 12 columns):\n",
      " #   Column            Non-Null Count  Dtype  \n",
      "---  ------            --------------  -----  \n",
      " 0   children          21402 non-null  int64  \n",
      " 1   days_employed     19240 non-null  float64\n",
      " 2   client_age        21402 non-null  float64\n",
      " 3   education         21402 non-null  object \n",
      " 4   education_id      21402 non-null  int64  \n",
      " 5   family_status     21402 non-null  object \n",
      " 6   family_status_id  21402 non-null  int64  \n",
      " 7   gender            21402 non-null  object \n",
      " 8   income_type       21402 non-null  object \n",
      " 9   debt              21402 non-null  int64  \n",
      " 10  total_income      19240 non-null  float64\n",
      " 11  purpose           21402 non-null  object \n",
      "dtypes: float64(3), int64(4), object(5)\n",
      "memory usage: 2.1+ MB\n"
     ]
    }
   ],
   "source": [
    "#informacion del DataFrame modificado\n",
    "df.info()"
   ]
  },
  {
   "cell_type": "markdown",
   "metadata": {
    "collapsed": false
   },
   "source": [
    "El nuevo conjunto de datos es más chico.\n",
    "Se han eliminado filas con datos extraños como lo son un número de hijos negativo y muy alto(20), se han reducido las categorías de la columna `education` y `purpose` ya que habia datos iguales escritos de diferente forma.\n",
    "\n",
    "El cambio más grande hecho, fue cambiar el 73.44% de los datos de la columna `days_employed` ya que estos eran negativos y se asume que son positivos."
   ]
  },
  {
   "cell_type": "markdown",
   "metadata": {
    "collapsed": false
   },
   "source": [
    "# Trabajar con valores ausentes"
   ]
  },
  {
   "cell_type": "markdown",
   "metadata": {
    "collapsed": false
   },
   "source": [
    "### Restaurar valores ausentes en `total_income`\n",
    "\n"
   ]
  },
  {
   "cell_type": "markdown",
   "metadata": {
    "collapsed": false
   },
   "source": [
    "Hay valores ausentes en las columnas `days_employed` y `total_income`. Al no ser pocas filas, hay que completarlas. Se analizan las características de los ingresos para determinar cual es la mejor referencia para completar las filas faltantes. \n"
   ]
  },
  {
   "cell_type": "code",
   "execution_count": 964,
   "metadata": {
    "collapsed": false
   },
   "outputs": [
   ],
   "source": [
    "#función que calcula la categoría de edad\n",
    "def age_category(age):\n",
    "    if age <20: return 'under 20'\n",
    "    elif age <30: return '20s'\n",
    "    elif age <40: return '30s'\n",
    "    elif age <50: return '40s'\n",
    "    elif age <60: return '50s'\n",
    "    elif age <70: return '60s'\n",
    "    else: return '70 and above'"
   ]
  },
  {
   "cell_type": "code",
   "execution_count": 965,
   "metadata": {
    "collapsed": false
   },
   "outputs": [
    {
     "name": "stdout",
     "output_type": "stream",
     "text": [
      "under 20\n",
      "20s\n",
      "30s\n",
      "40s\n",
      "50s\n",
      "60s\n",
      "70 and above\n"
     ]
    }
   ],
   "source": [
    "#Se prueba la función\n",
    "prueba = [15,20,35,44,56,60,71]\n",
    "for i in prueba:\n",
    "    print(age_category(i))"
   ]
  },
  {
   "cell_type": "code",
   "execution_count": 966,
   "metadata": {
    "collapsed": false
   },
   "outputs": [
   ],
   "source": [
    "#Se crea una nueva columna basada en la función\n",
    "df ['age_category'] = df ['client_age'].apply(age_category)"
   ]
  },
  {
   "cell_type": "code",
   "execution_count": 967,
   "metadata": {
    "collapsed": false
   },
   "outputs": [
    {
     "data": {
      "text/html": [
       "<div>\n",
       "<style scoped>\n",
       "    .dataframe tbody tr th:only-of-type {\n",
       "        vertical-align: middle;\n",
       "    }\n",
       "\n",
       "    .dataframe tbody tr th {\n",
       "        vertical-align: top;\n",
       "    }\n",
       "\n",
       "    .dataframe thead th {\n",
       "        text-align: right;\n",
       "    }\n",
       "</style>\n",
       "<table border=\"1\" class=\"dataframe\">\n",
       "  <thead>\n",
       "    <tr style=\"text-align: right;\">\n",
       "      <th></th>\n",
       "      <th>children</th>\n",
       "      <th>days_employed</th>\n",
       "      <th>client_age</th>\n",
       "      <th>education</th>\n",
       "      <th>education_id</th>\n",
       "      <th>family_status</th>\n",
       "      <th>family_status_id</th>\n",
       "      <th>gender</th>\n",
       "      <th>income_type</th>\n",
       "      <th>debt</th>\n",
       "      <th>total_income</th>\n",
       "      <th>purpose</th>\n",
       "      <th>age_category</th>\n",
       "    </tr>\n",
       "  </thead>\n",
       "  <tbody>\n",
       "    <tr>\n",
       "      <th>0</th>\n",
       "      <td>1</td>\n",
       "      <td>8437.673028</td>\n",
       "      <td>42.0</td>\n",
       "      <td>bachelor's degree</td>\n",
       "      <td>0</td>\n",
       "      <td>married</td>\n",
       "      <td>0</td>\n",
       "      <td>F</td>\n",
       "      <td>employee</td>\n",
       "      <td>0</td>\n",
       "      <td>40620.102</td>\n",
       "      <td>purchase of house</td>\n",
       "      <td>40s</td>\n",
       "    </tr>\n",
       "    <tr>\n",
       "      <th>1</th>\n",
       "      <td>1</td>\n",
       "      <td>4024.803754</td>\n",
       "      <td>36.0</td>\n",
       "      <td>secondary education</td>\n",
       "      <td>1</td>\n",
       "      <td>married</td>\n",
       "      <td>0</td>\n",
       "      <td>F</td>\n",
       "      <td>employee</td>\n",
       "      <td>0</td>\n",
       "      <td>17932.802</td>\n",
       "      <td>car</td>\n",
       "      <td>30s</td>\n",
       "    </tr>\n",
       "    <tr>\n",
       "      <th>2</th>\n",
       "      <td>0</td>\n",
       "      <td>5623.422610</td>\n",
       "      <td>33.0</td>\n",
       "      <td>secondary education</td>\n",
       "      <td>1</td>\n",
       "      <td>married</td>\n",
       "      <td>0</td>\n",
       "      <td>M</td>\n",
       "      <td>employee</td>\n",
       "      <td>0</td>\n",
       "      <td>23341.752</td>\n",
       "      <td>purchase of house</td>\n",
       "      <td>30s</td>\n",
       "    </tr>\n",
       "    <tr>\n",
       "      <th>3</th>\n",
       "      <td>3</td>\n",
       "      <td>4124.747207</td>\n",
       "      <td>32.0</td>\n",
       "      <td>secondary education</td>\n",
       "      <td>1</td>\n",
       "      <td>married</td>\n",
       "      <td>0</td>\n",
       "      <td>M</td>\n",
       "      <td>employee</td>\n",
       "      <td>0</td>\n",
       "      <td>42820.568</td>\n",
       "      <td>education</td>\n",
       "      <td>30s</td>\n",
       "    </tr>\n",
       "    <tr>\n",
       "      <th>4</th>\n",
       "      <td>0</td>\n",
       "      <td>340266.072047</td>\n",
       "      <td>53.0</td>\n",
       "      <td>secondary education</td>\n",
       "      <td>1</td>\n",
       "      <td>civil partnership</td>\n",
       "      <td>1</td>\n",
       "      <td>F</td>\n",
       "      <td>retiree</td>\n",
       "      <td>0</td>\n",
       "      <td>25378.572</td>\n",
       "      <td>wedding</td>\n",
       "      <td>50s</td>\n",
       "    </tr>\n",
       "    <tr>\n",
       "      <th>5</th>\n",
       "      <td>0</td>\n",
       "      <td>926.185831</td>\n",
       "      <td>27.0</td>\n",
       "      <td>bachelor's degree</td>\n",
       "      <td>0</td>\n",
       "      <td>civil partnership</td>\n",
       "      <td>1</td>\n",
       "      <td>M</td>\n",
       "      <td>business</td>\n",
       "      <td>0</td>\n",
       "      <td>40922.170</td>\n",
       "      <td>purchase of house</td>\n",
       "      <td>20s</td>\n",
       "    </tr>\n",
       "    <tr>\n",
       "      <th>6</th>\n",
       "      <td>0</td>\n",
       "      <td>2879.202052</td>\n",
       "      <td>43.0</td>\n",
       "      <td>bachelor's degree</td>\n",
       "      <td>0</td>\n",
       "      <td>married</td>\n",
       "      <td>0</td>\n",
       "      <td>F</td>\n",
       "      <td>business</td>\n",
       "      <td>0</td>\n",
       "      <td>38484.156</td>\n",
       "      <td>housing transactions</td>\n",
       "      <td>40s</td>\n",
       "    </tr>\n",
       "    <tr>\n",
       "      <th>7</th>\n",
       "      <td>0</td>\n",
       "      <td>152.779569</td>\n",
       "      <td>50.0</td>\n",
       "      <td>secondary education</td>\n",
       "      <td>1</td>\n",
       "      <td>married</td>\n",
       "      <td>0</td>\n",
       "      <td>M</td>\n",
       "      <td>employee</td>\n",
       "      <td>0</td>\n",
       "      <td>21731.829</td>\n",
       "      <td>education</td>\n",
       "      <td>50s</td>\n",
       "    </tr>\n",
       "    <tr>\n",
       "      <th>8</th>\n",
       "      <td>2</td>\n",
       "      <td>6929.865299</td>\n",
       "      <td>35.0</td>\n",
       "      <td>bachelor's degree</td>\n",
       "      <td>0</td>\n",
       "      <td>civil partnership</td>\n",
       "      <td>1</td>\n",
       "      <td>F</td>\n",
       "      <td>employee</td>\n",
       "      <td>0</td>\n",
       "      <td>15337.093</td>\n",
       "      <td>wedding</td>\n",
       "      <td>30s</td>\n",
       "    </tr>\n",
       "    <tr>\n",
       "      <th>9</th>\n",
       "      <td>0</td>\n",
       "      <td>2188.756445</td>\n",
       "      <td>41.0</td>\n",
       "      <td>secondary education</td>\n",
       "      <td>1</td>\n",
       "      <td>married</td>\n",
       "      <td>0</td>\n",
       "      <td>M</td>\n",
       "      <td>employee</td>\n",
       "      <td>0</td>\n",
       "      <td>23108.150</td>\n",
       "      <td>purchase of house</td>\n",
       "      <td>40s</td>\n",
       "    </tr>\n",
       "  </tbody>\n",
       "</table>\n",
       "</div>"
      ],
      "text/plain": [
       "   children  days_employed  client_age            education  education_id  \\\n",
       "0         1    8437.673028        42.0    bachelor's degree             0   \n",
       "1         1    4024.803754        36.0  secondary education             1   \n",
       "2         0    5623.422610        33.0  secondary education             1   \n",
       "3         3    4124.747207        32.0  secondary education             1   \n",
       "4         0  340266.072047        53.0  secondary education             1   \n",
       "5         0     926.185831        27.0    bachelor's degree             0   \n",
       "6         0    2879.202052        43.0    bachelor's degree             0   \n",
       "7         0     152.779569        50.0  secondary education             1   \n",
       "8         2    6929.865299        35.0    bachelor's degree             0   \n",
       "9         0    2188.756445        41.0  secondary education             1   \n",
       "\n",
       "       family_status  family_status_id gender income_type  debt  total_income  \\\n",
       "0            married                 0      F    employee     0     40620.102   \n",
       "1            married                 0      F    employee     0     17932.802   \n",
       "2            married                 0      M    employee     0     23341.752   \n",
       "3            married                 0      M    employee     0     42820.568   \n",
       "4  civil partnership                 1      F     retiree     0     25378.572   \n",
       "5  civil partnership                 1      M    business     0     40922.170   \n",
       "6            married                 0      F    business     0     38484.156   \n",
       "7            married                 0      M    employee     0     21731.829   \n",
       "8  civil partnership                 1      F    employee     0     15337.093   \n",
       "9            married                 0      M    employee     0     23108.150   \n",
       "\n",
       "                purpose age_category  \n",
       "0     purchase of house          40s  \n",
       "1                   car          30s  \n",
       "2     purchase of house          30s  \n",
       "3             education          30s  \n",
       "4               wedding          50s  \n",
       "5     purchase of house          20s  \n",
       "6  housing transactions          40s  \n",
       "7             education          50s  \n",
       "8               wedding          30s  \n",
       "9     purchase of house          40s  "
      ]
     },
     "execution_count": 967,
     "metadata": {
     },
     "output_type": "execute_result"
    }
   ],
   "source": [
    "# Comprobar valores de la nueva columna\n",
    "df.head(10)"
   ]
  },
  {
   "cell_type": "markdown",
   "metadata": {
    "collapsed": false
   },
   "source": [
    "Los factores de los que suelen depender los ingresos son la edad, el nivel de educación y el tipo de ingreso\n",
    "\n"
   ]
  },
  {
   "cell_type": "markdown",
   "metadata": {
    "collapsed": false
   },
   "source": [
    "Se crea una tabla sin valores ausentes para analizar los factores mencionados"
   ]
  },
  {
   "cell_type": "code",
   "execution_count": 968,
   "metadata": {
    "collapsed": false
   },
   "outputs": [
    {
     "data": {
      "text/html": [
       "<div>\n",
       "<style scoped>\n",
       "    .dataframe tbody tr th:only-of-type {\n",
       "        vertical-align: middle;\n",
       "    }\n",
       "\n",
       "    .dataframe tbody tr th {\n",
       "        vertical-align: top;\n",
       "    }\n",
       "\n",
       "    .dataframe thead th {\n",
       "        text-align: right;\n",
       "    }\n",
       "</style>\n",
       "<table border=\"1\" class=\"dataframe\">\n",
       "  <thead>\n",
       "    <tr style=\"text-align: right;\">\n",
       "      <th></th>\n",
       "      <th>children</th>\n",
       "      <th>days_employed</th>\n",
       "      <th>client_age</th>\n",
       "      <th>education</th>\n",
       "      <th>education_id</th>\n",
       "      <th>family_status</th>\n",
       "      <th>family_status_id</th>\n",
       "      <th>gender</th>\n",
       "      <th>income_type</th>\n",
       "      <th>debt</th>\n",
       "      <th>total_income</th>\n",
       "      <th>purpose</th>\n",
       "      <th>age_category</th>\n",
       "    </tr>\n",
       "  </thead>\n",
       "  <tbody>\n",
       "    <tr>\n",
       "      <th>0</th>\n",
       "      <td>1</td>\n",
       "      <td>8437.673028</td>\n",
       "      <td>42.0</td>\n",
       "      <td>bachelor's degree</td>\n",
       "      <td>0</td>\n",
       "      <td>married</td>\n",
       "      <td>0</td>\n",
       "      <td>F</td>\n",
       "      <td>employee</td>\n",
       "      <td>0</td>\n",
       "      <td>40620.102</td>\n",
       "      <td>purchase of house</td>\n",
       "      <td>40s</td>\n",
       "    </tr>\n",
       "    <tr>\n",
       "      <th>1</th>\n",
       "      <td>1</td>\n",
       "      <td>4024.803754</td>\n",
       "      <td>36.0</td>\n",
       "      <td>secondary education</td>\n",
       "      <td>1</td>\n",
       "      <td>married</td>\n",
       "      <td>0</td>\n",
       "      <td>F</td>\n",
       "      <td>employee</td>\n",
       "      <td>0</td>\n",
       "      <td>17932.802</td>\n",
       "      <td>car</td>\n",
       "      <td>30s</td>\n",
       "    </tr>\n",
       "    <tr>\n",
       "      <th>2</th>\n",
       "      <td>0</td>\n",
       "      <td>5623.422610</td>\n",
       "      <td>33.0</td>\n",
       "      <td>secondary education</td>\n",
       "      <td>1</td>\n",
       "      <td>married</td>\n",
       "      <td>0</td>\n",
       "      <td>M</td>\n",
       "      <td>employee</td>\n",
       "      <td>0</td>\n",
       "      <td>23341.752</td>\n",
       "      <td>purchase of house</td>\n",
       "      <td>30s</td>\n",
       "    </tr>\n",
       "    <tr>\n",
       "      <th>3</th>\n",
       "      <td>3</td>\n",
       "      <td>4124.747207</td>\n",
       "      <td>32.0</td>\n",
       "      <td>secondary education</td>\n",
       "      <td>1</td>\n",
       "      <td>married</td>\n",
       "      <td>0</td>\n",
       "      <td>M</td>\n",
       "      <td>employee</td>\n",
       "      <td>0</td>\n",
       "      <td>42820.568</td>\n",
       "      <td>education</td>\n",
       "      <td>30s</td>\n",
       "    </tr>\n",
       "    <tr>\n",
       "      <th>4</th>\n",
       "      <td>0</td>\n",
       "      <td>340266.072047</td>\n",
       "      <td>53.0</td>\n",
       "      <td>secondary education</td>\n",
       "      <td>1</td>\n",
       "      <td>civil partnership</td>\n",
       "      <td>1</td>\n",
       "      <td>F</td>\n",
       "      <td>retiree</td>\n",
       "      <td>0</td>\n",
       "      <td>25378.572</td>\n",
       "      <td>wedding</td>\n",
       "      <td>50s</td>\n",
       "    </tr>\n",
       "  </tbody>\n",
       "</table>\n",
       "</div>"
      ],
      "text/plain": [
       "   children  days_employed  client_age            education  education_id  \\\n",
       "0         1    8437.673028        42.0    bachelor's degree             0   \n",
       "1         1    4024.803754        36.0  secondary education             1   \n",
       "2         0    5623.422610        33.0  secondary education             1   \n",
       "3         3    4124.747207        32.0  secondary education             1   \n",
       "4         0  340266.072047        53.0  secondary education             1   \n",
       "\n",
       "       family_status  family_status_id gender income_type  debt  total_income  \\\n",
       "0            married                 0      F    employee     0     40620.102   \n",
       "1            married                 0      F    employee     0     17932.802   \n",
       "2            married                 0      M    employee     0     23341.752   \n",
       "3            married                 0      M    employee     0     42820.568   \n",
       "4  civil partnership                 1      F     retiree     0     25378.572   \n",
       "\n",
       "             purpose age_category  \n",
       "0  purchase of house          40s  \n",
       "1                car          30s  \n",
       "2  purchase of house          30s  \n",
       "3          education          30s  \n",
       "4            wedding          50s  "
      ]
     },
     "execution_count": 968,
     "metadata": {
     },
     "output_type": "execute_result"
    }
   ],
   "source": [
    "#tabla sin valores ausentes\n",
    "df_filtered_full = df[df['days_employed'].isna()==False]\n",
    "df_filtered_full.head()"
   ]
  },
  {
   "cell_type": "code",
   "execution_count": 969,
   "metadata": {
    "collapsed": false
   },
   "outputs": [
    {
     "data": {
      "text/plain": [
       "age_category\n",
       "20s             25585.600814\n",
       "30s             28314.525654\n",
       "40s             28514.403672\n",
       "50s             25807.707523\n",
       "60s             23236.985508\n",
       "70 and above    20125.658331\n",
       "under 20        16993.942462\n",
       "Name: total_income, dtype: float64"
      ]
     },
     "execution_count": 969,
     "metadata": {
     },
     "output_type": "execute_result"
    }
   ],
   "source": [
    "#media de ingresos totales por categoría de edad\n",
    "df_filtered_full.groupby('age_category')['total_income'].mean()"
   ]
  },
  {
   "cell_type": "code",
   "execution_count": 970,
   "metadata": {
    "collapsed": false
   },
   "outputs": [
    {
     "data": {
      "text/plain": [
       "age_category\n",
       "20s             22807.0365\n",
       "30s             24699.5815\n",
       "40s             24770.4920\n",
       "50s             22195.8470\n",
       "60s             19811.3260\n",
       "70 and above    18751.3240\n",
       "under 20        14934.9010\n",
       "Name: total_income, dtype: float64"
      ]
     },
     "execution_count": 970,
     "metadata": {
     },
     "output_type": "execute_result"
    }
   ],
   "source": [
    "#mediana de ingresos totales por categoría de edad\n",
    "df_filtered_full.groupby('age_category')['total_income'].median()"
   ]
  },
  {
   "cell_type": "code",
   "execution_count": 971,
   "metadata": {
    "collapsed": false
   },
   "outputs": [
    {
     "data": {
      "text/plain": [
       "education\n",
       "primary education      21144.882211\n",
       "secondary education    24587.986103\n",
       "graduate degree        27960.024667\n",
       "some college           29039.304112\n",
       "bachelor's degree      33167.337459\n",
       "Name: total_income, dtype: float64"
      ]
     },
     "execution_count": 971,
     "metadata": {
     },
     "output_type": "execute_result"
    }
   ],
   "source": [
    "#media de ingresos totales por nivel de educación\n",
    "df_filtered_full.groupby(['education'])['total_income'].mean().sort_values()"
   ]
  },
  {
   "cell_type": "code",
   "execution_count": 972,
   "metadata": {
    "collapsed": false
   },
   "outputs": [
    {
     "data": {
      "text/plain": [
       "education\n",
       "graduate degree         0.027875\n",
       "primary education       1.212544\n",
       "some college            3.121951\n",
       "bachelor's degree      21.816492\n",
       "secondary education    63.205575\n",
       "Name: total_income, dtype: float64"
      ]
     },
     "execution_count": 972,
     "metadata": {
     },
     "output_type": "execute_result"
    }
   ],
   "source": [
    "#porcentaje de personas por nivel educativo\n",
    "df_filtered_full.groupby('education')['total_income'].count().sort_values()/total_rows*100"
   ]
  },
  {
   "cell_type": "markdown",
   "metadata": {
    "collapsed": false
   },
   "source": [
    "Al analizar el ingreso por nivel de educación, se observa que mientras mayor el grado de estudios, mayor es el ingreso.\n",
    "Hay informción de las distintas categorías sin embargo no es mucha."
   ]
  },
  {
   "cell_type": "code",
   "execution_count": 977,
   "metadata": {
    "collapsed": false,
    "scrolled": true
   },
   "outputs": [
    {
     "data": {
      "text/plain": [
       "income_type\n",
       "paternity / maternity leave     8612.661000\n",
       "student                        15712.260000\n",
       "unemployed                     21014.360500\n",
       "retiree                        21951.754892\n",
       "employee                       25818.401986\n",
       "civil servant                  27318.902910\n",
       "business                       32413.731796\n",
       "entrepreneur                   79866.103000\n",
       "Name: total_income, dtype: float64"
      ]
     },
     "execution_count": 977,
     "metadata": {
     },
     "output_type": "execute_result"
    }
   ],
   "source": [
    "#Se examinan los ingresos en función del tipo de ingreso\n",
    "df_filtered_full.groupby('income_type')['total_income'].mean().sort_values()"
   ]
  },
  {
   "cell_type": "code",
   "execution_count": 978,
   "metadata": {
    "collapsed": false,
    "scrolled": true
   },
   "outputs": [
    {
     "data": {
      "text/plain": [
       "income_type\n",
       "entrepreneur                    0.004646\n",
       "paternity / maternity leave     0.004646\n",
       "student                         0.004646\n",
       "unemployed                      0.009292\n",
       "civil servant                   6.072009\n",
       "retiree                        15.930314\n",
       "business                       21.138211\n",
       "employee                       46.220674\n",
       "Name: total_income, dtype: float64"
      ]
     },
     "execution_count": 978,
     "metadata": {
     },
     "output_type": "execute_result"
    }
   ],
   "source": [
    "df_filtered_full.groupby('income_type')['total_income'].count().sort_values()/total_rows*100"
   ]
  },
  {
   "cell_type": "markdown",
   "metadata": {
    "collapsed": false
   },
   "source": [
    "Al agrupar el tipo de ingreso y obtener la media del total de ingresos, se observan diferencias; sin embargo al ver la cantidad de personas que hay en las categorias de `entrepreneur`, `paternity / maternity leave`, `student` y `unemployed`, cada una representa menos del 1% por lo que no es una buena referencia al tener poca información sobre múltiples categorias."
   ]
  },
  {
   "cell_type": "markdown",
   "metadata": {
    "collapsed": false
   },
   "source": [
    "Se establece la mediana de cada categoría de edad como el valor representativo para los datos ausentes, ya que no se tiene mucha información de distintas catgorías del nivel de educación y del tipo de ingreso. Se toma la mediana de cada grupo debido a la presencia de valores atípicos.\n"
   ]
  },
  {
   "cell_type": "code",
   "execution_count": 984,
   "metadata": {
    "collapsed": false
   },
   "outputs": [
   ],
   "source": [
    "#Función para rellenar ingreso por categoria de edad\n",
    "def fill_total_income2(row):\n",
    "    if row.isna()['total_income']:\n",
    "        if row['age_category'] == '20s': row['total_income']   = 22807.0365\n",
    "        elif row['age_category'] == '30s': row['total_income'] = 24699.5815\n",
    "        elif row['age_category'] == '40s': row['total_income'] = 24770.4920\n",
    "        elif row['age_category'] == '50s': row['total_income'] = 22195.8470\n",
    "        elif row['age_category'] == '60s': row['total_income'] = 19811.3260\n",
    "        elif row['age_category'] == '70 and above': row['total_income'] = 18751.3240\n",
    "        elif row['age_category'] == 'under 20': row['total_income'] = 14934.9010\n",
    "            \n",
    "    return row"
   ]
  },
  {
   "cell_type": "code",
   "execution_count": 985,
   "metadata": {
    "collapsed": false,
    "scrolled": true
   },
   "outputs": [
    {
     "data": {
      "text/plain": [
       "total_income              19811.326\n",
       "age_category                    60s\n",
       "education       secondary education\n",
       "dtype: object"
      ]
     },
     "execution_count": 985,
     "metadata": {
     },
     "output_type": "execute_result"
    }
   ],
   "source": [
    "# se prueba la función\n",
    "#Valores que la función espera\n",
    "row_values1 = [float('nan'),'60s', 'secondary education']\n",
    "row_values2 = [100,'20s', 'some college']\n",
    "row_values3 = [float('nan'),'70 and above', 'secondary education']\n",
    "\n",
    "#Columnas que la función espera\n",
    "row_columns = ['total_income','age_category', 'education']\n",
    "#Crear fila ficticia \n",
    "row1 = pd.Series(data=row_values1, index=row_columns)\n",
    "row2 = pd.Series(data=row_values2, index=row_columns)\n",
    "row3 = pd.Series(data=row_values3, index=row_columns)\n",
    "\n",
    "fill_total_income2(row1)"
   ]
  },
  {
   "cell_type": "code",
   "execution_count": 986,
   "metadata": {
    "collapsed": false
   },
   "outputs": [
   ],
   "source": [
    "#Aplicar función\n",
    "df = df.apply(fill_total_income2, axis = 1)"
   ]
  },
  {
   "cell_type": "code",
   "execution_count": 987,
   "metadata": {
    "collapsed": false
   },
   "outputs": [
    {
     "data": {
      "text/html": [
       "<div>\n",
       "<style scoped>\n",
       "    .dataframe tbody tr th:only-of-type {\n",
       "        vertical-align: middle;\n",
       "    }\n",
       "\n",
       "    .dataframe tbody tr th {\n",
       "        vertical-align: top;\n",
       "    }\n",
       "\n",
       "    .dataframe thead th {\n",
       "        text-align: right;\n",
       "    }\n",
       "</style>\n",
       "<table border=\"1\" class=\"dataframe\">\n",
       "  <thead>\n",
       "    <tr style=\"text-align: right;\">\n",
       "      <th></th>\n",
       "      <th>children</th>\n",
       "      <th>days_employed</th>\n",
       "      <th>client_age</th>\n",
       "      <th>education</th>\n",
       "      <th>education_id</th>\n",
       "      <th>family_status</th>\n",
       "      <th>family_status_id</th>\n",
       "      <th>gender</th>\n",
       "      <th>income_type</th>\n",
       "      <th>debt</th>\n",
       "      <th>total_income</th>\n",
       "      <th>purpose</th>\n",
       "      <th>age_category</th>\n",
       "    </tr>\n",
       "  </thead>\n",
       "  <tbody>\n",
       "    <tr>\n",
       "      <th>0</th>\n",
       "      <td>1</td>\n",
       "      <td>8437.673028</td>\n",
       "      <td>42.0</td>\n",
       "      <td>bachelor's degree</td>\n",
       "      <td>0</td>\n",
       "      <td>married</td>\n",
       "      <td>0</td>\n",
       "      <td>F</td>\n",
       "      <td>employee</td>\n",
       "      <td>0</td>\n",
       "      <td>40620.102</td>\n",
       "      <td>purchase of house</td>\n",
       "      <td>40s</td>\n",
       "    </tr>\n",
       "    <tr>\n",
       "      <th>1</th>\n",
       "      <td>1</td>\n",
       "      <td>4024.803754</td>\n",
       "      <td>36.0</td>\n",
       "      <td>secondary education</td>\n",
       "      <td>1</td>\n",
       "      <td>married</td>\n",
       "      <td>0</td>\n",
       "      <td>F</td>\n",
       "      <td>employee</td>\n",
       "      <td>0</td>\n",
       "      <td>17932.802</td>\n",
       "      <td>car</td>\n",
       "      <td>30s</td>\n",
       "    </tr>\n",
       "    <tr>\n",
       "      <th>2</th>\n",
       "      <td>0</td>\n",
       "      <td>5623.422610</td>\n",
       "      <td>33.0</td>\n",
       "      <td>secondary education</td>\n",
       "      <td>1</td>\n",
       "      <td>married</td>\n",
       "      <td>0</td>\n",
       "      <td>M</td>\n",
       "      <td>employee</td>\n",
       "      <td>0</td>\n",
       "      <td>23341.752</td>\n",
       "      <td>purchase of house</td>\n",
       "      <td>30s</td>\n",
       "    </tr>\n",
       "    <tr>\n",
       "      <th>3</th>\n",
       "      <td>3</td>\n",
       "      <td>4124.747207</td>\n",
       "      <td>32.0</td>\n",
       "      <td>secondary education</td>\n",
       "      <td>1</td>\n",
       "      <td>married</td>\n",
       "      <td>0</td>\n",
       "      <td>M</td>\n",
       "      <td>employee</td>\n",
       "      <td>0</td>\n",
       "      <td>42820.568</td>\n",
       "      <td>education</td>\n",
       "      <td>30s</td>\n",
       "    </tr>\n",
       "    <tr>\n",
       "      <th>4</th>\n",
       "      <td>0</td>\n",
       "      <td>340266.072047</td>\n",
       "      <td>53.0</td>\n",
       "      <td>secondary education</td>\n",
       "      <td>1</td>\n",
       "      <td>civil partnership</td>\n",
       "      <td>1</td>\n",
       "      <td>F</td>\n",
       "      <td>retiree</td>\n",
       "      <td>0</td>\n",
       "      <td>25378.572</td>\n",
       "      <td>wedding</td>\n",
       "      <td>50s</td>\n",
       "    </tr>\n",
       "    <tr>\n",
       "      <th>5</th>\n",
       "      <td>0</td>\n",
       "      <td>926.185831</td>\n",
       "      <td>27.0</td>\n",
       "      <td>bachelor's degree</td>\n",
       "      <td>0</td>\n",
       "      <td>civil partnership</td>\n",
       "      <td>1</td>\n",
       "      <td>M</td>\n",
       "      <td>business</td>\n",
       "      <td>0</td>\n",
       "      <td>40922.170</td>\n",
       "      <td>purchase of house</td>\n",
       "      <td>20s</td>\n",
       "    </tr>\n",
       "    <tr>\n",
       "      <th>6</th>\n",
       "      <td>0</td>\n",
       "      <td>2879.202052</td>\n",
       "      <td>43.0</td>\n",
       "      <td>bachelor's degree</td>\n",
       "      <td>0</td>\n",
       "      <td>married</td>\n",
       "      <td>0</td>\n",
       "      <td>F</td>\n",
       "      <td>business</td>\n",
       "      <td>0</td>\n",
       "      <td>38484.156</td>\n",
       "      <td>housing transactions</td>\n",
       "      <td>40s</td>\n",
       "    </tr>\n",
       "    <tr>\n",
       "      <th>7</th>\n",
       "      <td>0</td>\n",
       "      <td>152.779569</td>\n",
       "      <td>50.0</td>\n",
       "      <td>secondary education</td>\n",
       "      <td>1</td>\n",
       "      <td>married</td>\n",
       "      <td>0</td>\n",
       "      <td>M</td>\n",
       "      <td>employee</td>\n",
       "      <td>0</td>\n",
       "      <td>21731.829</td>\n",
       "      <td>education</td>\n",
       "      <td>50s</td>\n",
       "    </tr>\n",
       "    <tr>\n",
       "      <th>8</th>\n",
       "      <td>2</td>\n",
       "      <td>6929.865299</td>\n",
       "      <td>35.0</td>\n",
       "      <td>bachelor's degree</td>\n",
       "      <td>0</td>\n",
       "      <td>civil partnership</td>\n",
       "      <td>1</td>\n",
       "      <td>F</td>\n",
       "      <td>employee</td>\n",
       "      <td>0</td>\n",
       "      <td>15337.093</td>\n",
       "      <td>wedding</td>\n",
       "      <td>30s</td>\n",
       "    </tr>\n",
       "    <tr>\n",
       "      <th>9</th>\n",
       "      <td>0</td>\n",
       "      <td>2188.756445</td>\n",
       "      <td>41.0</td>\n",
       "      <td>secondary education</td>\n",
       "      <td>1</td>\n",
       "      <td>married</td>\n",
       "      <td>0</td>\n",
       "      <td>M</td>\n",
       "      <td>employee</td>\n",
       "      <td>0</td>\n",
       "      <td>23108.150</td>\n",
       "      <td>purchase of house</td>\n",
       "      <td>40s</td>\n",
       "    </tr>\n",
       "    <tr>\n",
       "      <th>10</th>\n",
       "      <td>2</td>\n",
       "      <td>4171.483647</td>\n",
       "      <td>36.0</td>\n",
       "      <td>bachelor's degree</td>\n",
       "      <td>0</td>\n",
       "      <td>married</td>\n",
       "      <td>0</td>\n",
       "      <td>M</td>\n",
       "      <td>business</td>\n",
       "      <td>0</td>\n",
       "      <td>18230.959</td>\n",
       "      <td>buy real estate</td>\n",
       "      <td>30s</td>\n",
       "    </tr>\n",
       "    <tr>\n",
       "      <th>11</th>\n",
       "      <td>0</td>\n",
       "      <td>792.701887</td>\n",
       "      <td>40.0</td>\n",
       "      <td>secondary education</td>\n",
       "      <td>1</td>\n",
       "      <td>married</td>\n",
       "      <td>0</td>\n",
       "      <td>F</td>\n",
       "      <td>employee</td>\n",
       "      <td>0</td>\n",
       "      <td>12331.077</td>\n",
       "      <td>buy commercial real estate</td>\n",
       "      <td>40s</td>\n",
       "    </tr>\n",
       "    <tr>\n",
       "      <th>12</th>\n",
       "      <td>0</td>\n",
       "      <td>NaN</td>\n",
       "      <td>65.0</td>\n",
       "      <td>secondary education</td>\n",
       "      <td>1</td>\n",
       "      <td>civil partnership</td>\n",
       "      <td>1</td>\n",
       "      <td>M</td>\n",
       "      <td>retiree</td>\n",
       "      <td>0</td>\n",
       "      <td>19811.326</td>\n",
       "      <td>wedding</td>\n",
       "      <td>60s</td>\n",
       "    </tr>\n",
       "  </tbody>\n",
       "</table>\n",
       "</div>"
      ],
      "text/plain": [
       "    children  days_employed  client_age            education  education_id  \\\n",
       "0          1    8437.673028        42.0    bachelor's degree             0   \n",
       "1          1    4024.803754        36.0  secondary education             1   \n",
       "2          0    5623.422610        33.0  secondary education             1   \n",
       "3          3    4124.747207        32.0  secondary education             1   \n",
       "4          0  340266.072047        53.0  secondary education             1   \n",
       "5          0     926.185831        27.0    bachelor's degree             0   \n",
       "6          0    2879.202052        43.0    bachelor's degree             0   \n",
       "7          0     152.779569        50.0  secondary education             1   \n",
       "8          2    6929.865299        35.0    bachelor's degree             0   \n",
       "9          0    2188.756445        41.0  secondary education             1   \n",
       "10         2    4171.483647        36.0    bachelor's degree             0   \n",
       "11         0     792.701887        40.0  secondary education             1   \n",
       "12         0            NaN        65.0  secondary education             1   \n",
       "\n",
       "        family_status  family_status_id gender income_type  debt  \\\n",
       "0             married                 0      F    employee     0   \n",
       "1             married                 0      F    employee     0   \n",
       "2             married                 0      M    employee     0   \n",
       "3             married                 0      M    employee     0   \n",
       "4   civil partnership                 1      F     retiree     0   \n",
       "5   civil partnership                 1      M    business     0   \n",
       "6             married                 0      F    business     0   \n",
       "7             married                 0      M    employee     0   \n",
       "8   civil partnership                 1      F    employee     0   \n",
       "9             married                 0      M    employee     0   \n",
       "10            married                 0      M    business     0   \n",
       "11            married                 0      F    employee     0   \n",
       "12  civil partnership                 1      M     retiree     0   \n",
       "\n",
       "    total_income                     purpose age_category  \n",
       "0      40620.102           purchase of house          40s  \n",
       "1      17932.802                         car          30s  \n",
       "2      23341.752           purchase of house          30s  \n",
       "3      42820.568                   education          30s  \n",
       "4      25378.572                     wedding          50s  \n",
       "5      40922.170           purchase of house          20s  \n",
       "6      38484.156        housing transactions          40s  \n",
       "7      21731.829                   education          50s  \n",
       "8      15337.093                     wedding          30s  \n",
       "9      23108.150           purchase of house          40s  \n",
       "10     18230.959             buy real estate          30s  \n",
       "11     12331.077  buy commercial real estate          40s  \n",
       "12     19811.326                     wedding          60s  "
      ]
     },
     "execution_count": 987,
     "metadata": {
     },
     "output_type": "execute_result"
    }
   ],
   "source": [
    "#Vista previa del dataframe\n",
    "df.head(13)"
   ]
  },
  {
   "cell_type": "code",
   "execution_count": 988,
   "metadata": {
    "collapsed": false,
    "scrolled": true
   },
   "outputs": [
    {
     "name": "stdout",
     "output_type": "stream",
     "text": [
      "<class 'pandas.core.frame.DataFrame'>\n",
      "Int64Index: 21402 entries, 0 to 21524\n",
      "Data columns (total 13 columns):\n",
      " #   Column            Non-Null Count  Dtype  \n",
      "---  ------            --------------  -----  \n",
      " 0   children          21402 non-null  int64  \n",
      " 1   days_employed     19240 non-null  float64\n",
      " 2   client_age        21402 non-null  float64\n",
      " 3   education         21402 non-null  object \n",
      " 4   education_id      21402 non-null  int64  \n",
      " 5   family_status     21402 non-null  object \n",
      " 6   family_status_id  21402 non-null  int64  \n",
      " 7   gender            21402 non-null  object \n",
      " 8   income_type       21402 non-null  object \n",
      " 9   debt              21402 non-null  int64  \n",
      " 10  total_income      21402 non-null  float64\n",
      " 11  purpose           21402 non-null  object \n",
      " 12  age_category      21402 non-null  object \n",
      "dtypes: float64(3), int64(4), object(6)\n",
      "memory usage: 2.3+ MB\n"
     ]
    }
   ],
   "source": [
    "#información general del dataframe modificado\n",
    "df.info()"
   ]
  },
  {
   "cell_type": "markdown",
   "metadata": {
    "collapsed": false
   },
   "source": [
    "La columna `total_income` ya no tiene valores ausentes"
   ]
  },
  {
   "cell_type": "markdown",
   "metadata": {
    "collapsed": false
   },
   "source": [
    "###  Restaurar valores en `days_employed`\n",
    "\n"
   ]
  },
  {
   "cell_type": "markdown",
   "metadata": {
    "collapsed": false
   },
   "source": [
    " Al igual que en la columna anterior, se llenan los valores ausentes en `days_employed` tomando en en cuenta los parámetros de la edad"
   ]
  },
  {
   "cell_type": "code",
   "execution_count": 989,
   "metadata": {
    "collapsed": false,
    "pycharm": {
     "name": "#%%\n"
    }
   },
   "outputs": [
    {
     "data": {
      "text/plain": [
       "age_category\n",
       "20s               1007.207074\n",
       "30s               1601.919871\n",
       "40s               2109.314691\n",
       "50s               4823.464469\n",
       "60s             354932.869424\n",
       "70 and above    361336.993449\n",
       "under 20           724.492610\n",
       "Name: days_employed, dtype: float64"
      ]
     },
     "execution_count": 989,
     "metadata": {
     },
     "output_type": "execute_result"
    }
   ],
   "source": [
    "# Distribución de las medianas de `days_employed` en función del parámetro edad\n",
    "df_filtered_full.groupby('age_category')['days_employed'].median()"
   ]
  },
  {
   "cell_type": "code",
   "execution_count": 990,
   "metadata": {
    "collapsed": false
   },
   "outputs": [
    {
     "data": {
      "text/plain": [
       "age_category\n",
       "20s               1970.099128\n",
       "30s               4168.767451\n",
       "40s              13375.461164\n",
       "50s             133225.884547\n",
       "60s             283789.958296\n",
       "70 and above    320819.151927\n",
       "under 20           633.678086\n",
       "Name: days_employed, dtype: float64"
      ]
     },
     "execution_count": 990,
     "metadata": {
     },
     "output_type": "execute_result"
    }
   ],
   "source": [
    "# Distribución de las medias de `days_employed` en función del parámetro edad\n",
    "df_filtered_full.groupby('age_category')['days_employed'].mean()"
   ]
  },
  {
   "cell_type": "markdown",
   "metadata": {
    "collapsed": false
   },
   "source": [
    "Se usan las medianas por la presencia  valores atípicos"
   ]
  },
  {
   "cell_type": "code",
   "execution_count": 991,
   "metadata": {
    "collapsed": false
   },
   "outputs": [
   ],
   "source": [
    "#Función para rellenar columna days_employed por categoria de edad\n",
    "def fill_days_employed(row):\n",
    "    if row.isna()['days_employed']:\n",
    "        if row['age_category'] == '20s':             row['days_employed']= 1007.207074\n",
    "        elif row['age_category'] == '30s':           row['days_employed']= 1601.919871\n",
    "        elif row['age_category'] == '40s':           row['days_employed']= 2109.314691\n",
    "        elif row['age_category'] == '50s':           row['days_employed']= 4823.464469\n",
    "        elif row['age_category'] == '60s':           row['days_employed']= 354932.869424\n",
    "        elif row['age_category'] == '70 and above':  row['days_employed']= 361336.993449\n",
    "        elif row['age_category'] == 'under 20':      row['days_employed']= 724.492610\n",
    "    \n",
    "    return row"
   ]
  },
  {
   "cell_type": "code",
   "execution_count": 992,
   "metadata": {
    "collapsed": false
   },
   "outputs": [
    {
     "data": {
      "text/plain": [
       "days_employed    361336.993449\n",
       "age_category      70 and above\n",
       "income_type            retiree\n",
       "dtype: object"
      ]
     },
     "execution_count": 992,
     "metadata": {
     },
     "output_type": "execute_result"
    }
   ],
   "source": [
    "#Se prueba la función\n",
    "\n",
    "#Valores que la función espera\n",
    "row_values1 = [float('nan'),'20s', 'business']\n",
    "row_values2 = [100,'20s', 'business']\n",
    "row_values3 = [float('nan'),'70 and above', 'retiree']\n",
    "\n",
    "#Columnas que la función espera\n",
    "row_columns = ['days_employed','age_category', 'income_type']\n",
    "#Crear fila ficticia \n",
    "row1 = pd.Series(data=row_values1, index=row_columns)\n",
    "row2 = pd.Series(data=row_values2, index=row_columns)\n",
    "row3 = pd.Series(data=row_values3, index=row_columns)\n",
    "\n",
    "fill_days_employed(row3)"
   ]
  },
  {
   "cell_type": "code",
   "execution_count": 993,
   "metadata": {
    "collapsed": false
   },
   "outputs": [
   ],
   "source": [
    "# Aplicar la función a cada fila\n",
    "df = df.apply(fill_days_employed, axis = 1)"
   ]
  },
  {
   "cell_type": "code",
   "execution_count": 994,
   "metadata": {
    "collapsed": false
   },
   "outputs": [
    {
     "data": {
      "text/html": [
       "<div>\n",
       "<style scoped>\n",
       "    .dataframe tbody tr th:only-of-type {\n",
       "        vertical-align: middle;\n",
       "    }\n",
       "\n",
       "    .dataframe tbody tr th {\n",
       "        vertical-align: top;\n",
       "    }\n",
       "\n",
       "    .dataframe thead th {\n",
       "        text-align: right;\n",
       "    }\n",
       "</style>\n",
       "<table border=\"1\" class=\"dataframe\">\n",
       "  <thead>\n",
       "    <tr style=\"text-align: right;\">\n",
       "      <th></th>\n",
       "      <th>children</th>\n",
       "      <th>days_employed</th>\n",
       "      <th>client_age</th>\n",
       "      <th>education</th>\n",
       "      <th>education_id</th>\n",
       "      <th>family_status</th>\n",
       "      <th>family_status_id</th>\n",
       "      <th>gender</th>\n",
       "      <th>income_type</th>\n",
       "      <th>debt</th>\n",
       "      <th>total_income</th>\n",
       "      <th>purpose</th>\n",
       "      <th>age_category</th>\n",
       "    </tr>\n",
       "  </thead>\n",
       "  <tbody>\n",
       "    <tr>\n",
       "      <th>0</th>\n",
       "      <td>1</td>\n",
       "      <td>8437.673028</td>\n",
       "      <td>42.0</td>\n",
       "      <td>bachelor's degree</td>\n",
       "      <td>0</td>\n",
       "      <td>married</td>\n",
       "      <td>0</td>\n",
       "      <td>F</td>\n",
       "      <td>employee</td>\n",
       "      <td>0</td>\n",
       "      <td>40620.102</td>\n",
       "      <td>purchase of house</td>\n",
       "      <td>40s</td>\n",
       "    </tr>\n",
       "    <tr>\n",
       "      <th>1</th>\n",
       "      <td>1</td>\n",
       "      <td>4024.803754</td>\n",
       "      <td>36.0</td>\n",
       "      <td>secondary education</td>\n",
       "      <td>1</td>\n",
       "      <td>married</td>\n",
       "      <td>0</td>\n",
       "      <td>F</td>\n",
       "      <td>employee</td>\n",
       "      <td>0</td>\n",
       "      <td>17932.802</td>\n",
       "      <td>car</td>\n",
       "      <td>30s</td>\n",
       "    </tr>\n",
       "    <tr>\n",
       "      <th>2</th>\n",
       "      <td>0</td>\n",
       "      <td>5623.422610</td>\n",
       "      <td>33.0</td>\n",
       "      <td>secondary education</td>\n",
       "      <td>1</td>\n",
       "      <td>married</td>\n",
       "      <td>0</td>\n",
       "      <td>M</td>\n",
       "      <td>employee</td>\n",
       "      <td>0</td>\n",
       "      <td>23341.752</td>\n",
       "      <td>purchase of house</td>\n",
       "      <td>30s</td>\n",
       "    </tr>\n",
       "    <tr>\n",
       "      <th>3</th>\n",
       "      <td>3</td>\n",
       "      <td>4124.747207</td>\n",
       "      <td>32.0</td>\n",
       "      <td>secondary education</td>\n",
       "      <td>1</td>\n",
       "      <td>married</td>\n",
       "      <td>0</td>\n",
       "      <td>M</td>\n",
       "      <td>employee</td>\n",
       "      <td>0</td>\n",
       "      <td>42820.568</td>\n",
       "      <td>education</td>\n",
       "      <td>30s</td>\n",
       "    </tr>\n",
       "    <tr>\n",
       "      <th>4</th>\n",
       "      <td>0</td>\n",
       "      <td>340266.072047</td>\n",
       "      <td>53.0</td>\n",
       "      <td>secondary education</td>\n",
       "      <td>1</td>\n",
       "      <td>civil partnership</td>\n",
       "      <td>1</td>\n",
       "      <td>F</td>\n",
       "      <td>retiree</td>\n",
       "      <td>0</td>\n",
       "      <td>25378.572</td>\n",
       "      <td>wedding</td>\n",
       "      <td>50s</td>\n",
       "    </tr>\n",
       "    <tr>\n",
       "      <th>5</th>\n",
       "      <td>0</td>\n",
       "      <td>926.185831</td>\n",
       "      <td>27.0</td>\n",
       "      <td>bachelor's degree</td>\n",
       "      <td>0</td>\n",
       "      <td>civil partnership</td>\n",
       "      <td>1</td>\n",
       "      <td>M</td>\n",
       "      <td>business</td>\n",
       "      <td>0</td>\n",
       "      <td>40922.170</td>\n",
       "      <td>purchase of house</td>\n",
       "      <td>20s</td>\n",
       "    </tr>\n",
       "    <tr>\n",
       "      <th>6</th>\n",
       "      <td>0</td>\n",
       "      <td>2879.202052</td>\n",
       "      <td>43.0</td>\n",
       "      <td>bachelor's degree</td>\n",
       "      <td>0</td>\n",
       "      <td>married</td>\n",
       "      <td>0</td>\n",
       "      <td>F</td>\n",
       "      <td>business</td>\n",
       "      <td>0</td>\n",
       "      <td>38484.156</td>\n",
       "      <td>housing transactions</td>\n",
       "      <td>40s</td>\n",
       "    </tr>\n",
       "    <tr>\n",
       "      <th>7</th>\n",
       "      <td>0</td>\n",
       "      <td>152.779569</td>\n",
       "      <td>50.0</td>\n",
       "      <td>secondary education</td>\n",
       "      <td>1</td>\n",
       "      <td>married</td>\n",
       "      <td>0</td>\n",
       "      <td>M</td>\n",
       "      <td>employee</td>\n",
       "      <td>0</td>\n",
       "      <td>21731.829</td>\n",
       "      <td>education</td>\n",
       "      <td>50s</td>\n",
       "    </tr>\n",
       "    <tr>\n",
       "      <th>8</th>\n",
       "      <td>2</td>\n",
       "      <td>6929.865299</td>\n",
       "      <td>35.0</td>\n",
       "      <td>bachelor's degree</td>\n",
       "      <td>0</td>\n",
       "      <td>civil partnership</td>\n",
       "      <td>1</td>\n",
       "      <td>F</td>\n",
       "      <td>employee</td>\n",
       "      <td>0</td>\n",
       "      <td>15337.093</td>\n",
       "      <td>wedding</td>\n",
       "      <td>30s</td>\n",
       "    </tr>\n",
       "    <tr>\n",
       "      <th>9</th>\n",
       "      <td>0</td>\n",
       "      <td>2188.756445</td>\n",
       "      <td>41.0</td>\n",
       "      <td>secondary education</td>\n",
       "      <td>1</td>\n",
       "      <td>married</td>\n",
       "      <td>0</td>\n",
       "      <td>M</td>\n",
       "      <td>employee</td>\n",
       "      <td>0</td>\n",
       "      <td>23108.150</td>\n",
       "      <td>purchase of house</td>\n",
       "      <td>40s</td>\n",
       "    </tr>\n",
       "    <tr>\n",
       "      <th>10</th>\n",
       "      <td>2</td>\n",
       "      <td>4171.483647</td>\n",
       "      <td>36.0</td>\n",
       "      <td>bachelor's degree</td>\n",
       "      <td>0</td>\n",
       "      <td>married</td>\n",
       "      <td>0</td>\n",
       "      <td>M</td>\n",
       "      <td>business</td>\n",
       "      <td>0</td>\n",
       "      <td>18230.959</td>\n",
       "      <td>buy real estate</td>\n",
       "      <td>30s</td>\n",
       "    </tr>\n",
       "    <tr>\n",
       "      <th>11</th>\n",
       "      <td>0</td>\n",
       "      <td>792.701887</td>\n",
       "      <td>40.0</td>\n",
       "      <td>secondary education</td>\n",
       "      <td>1</td>\n",
       "      <td>married</td>\n",
       "      <td>0</td>\n",
       "      <td>F</td>\n",
       "      <td>employee</td>\n",
       "      <td>0</td>\n",
       "      <td>12331.077</td>\n",
       "      <td>buy commercial real estate</td>\n",
       "      <td>40s</td>\n",
       "    </tr>\n",
       "    <tr>\n",
       "      <th>12</th>\n",
       "      <td>0</td>\n",
       "      <td>354932.869424</td>\n",
       "      <td>65.0</td>\n",
       "      <td>secondary education</td>\n",
       "      <td>1</td>\n",
       "      <td>civil partnership</td>\n",
       "      <td>1</td>\n",
       "      <td>M</td>\n",
       "      <td>retiree</td>\n",
       "      <td>0</td>\n",
       "      <td>19811.326</td>\n",
       "      <td>wedding</td>\n",
       "      <td>60s</td>\n",
       "    </tr>\n",
       "  </tbody>\n",
       "</table>\n",
       "</div>"
      ],
      "text/plain": [
       "    children  days_employed  client_age            education  education_id  \\\n",
       "0          1    8437.673028        42.0    bachelor's degree             0   \n",
       "1          1    4024.803754        36.0  secondary education             1   \n",
       "2          0    5623.422610        33.0  secondary education             1   \n",
       "3          3    4124.747207        32.0  secondary education             1   \n",
       "4          0  340266.072047        53.0  secondary education             1   \n",
       "5          0     926.185831        27.0    bachelor's degree             0   \n",
       "6          0    2879.202052        43.0    bachelor's degree             0   \n",
       "7          0     152.779569        50.0  secondary education             1   \n",
       "8          2    6929.865299        35.0    bachelor's degree             0   \n",
       "9          0    2188.756445        41.0  secondary education             1   \n",
       "10         2    4171.483647        36.0    bachelor's degree             0   \n",
       "11         0     792.701887        40.0  secondary education             1   \n",
       "12         0  354932.869424        65.0  secondary education             1   \n",
       "\n",
       "        family_status  family_status_id gender income_type  debt  \\\n",
       "0             married                 0      F    employee     0   \n",
       "1             married                 0      F    employee     0   \n",
       "2             married                 0      M    employee     0   \n",
       "3             married                 0      M    employee     0   \n",
       "4   civil partnership                 1      F     retiree     0   \n",
       "5   civil partnership                 1      M    business     0   \n",
       "6             married                 0      F    business     0   \n",
       "7             married                 0      M    employee     0   \n",
       "8   civil partnership                 1      F    employee     0   \n",
       "9             married                 0      M    employee     0   \n",
       "10            married                 0      M    business     0   \n",
       "11            married                 0      F    employee     0   \n",
       "12  civil partnership                 1      M     retiree     0   \n",
       "\n",
       "    total_income                     purpose age_category  \n",
       "0      40620.102           purchase of house          40s  \n",
       "1      17932.802                         car          30s  \n",
       "2      23341.752           purchase of house          30s  \n",
       "3      42820.568                   education          30s  \n",
       "4      25378.572                     wedding          50s  \n",
       "5      40922.170           purchase of house          20s  \n",
       "6      38484.156        housing transactions          40s  \n",
       "7      21731.829                   education          50s  \n",
       "8      15337.093                     wedding          30s  \n",
       "9      23108.150           purchase of house          40s  \n",
       "10     18230.959             buy real estate          30s  \n",
       "11     12331.077  buy commercial real estate          40s  \n",
       "12     19811.326                     wedding          60s  "
      ]
     },
     "execution_count": 994,
     "metadata": {
     },
     "output_type": "execute_result"
    }
   ],
   "source": [
    "#vista previa del nuevo DF\n",
    "df.head(13)"
   ]
  },
  {
   "cell_type": "code",
   "execution_count": 995,
   "metadata": {
    "collapsed": false
   },
   "outputs": [
    {
     "name": "stdout",
     "output_type": "stream",
     "text": [
      "<class 'pandas.core.frame.DataFrame'>\n",
      "Int64Index: 21402 entries, 0 to 21524\n",
      "Data columns (total 13 columns):\n",
      " #   Column            Non-Null Count  Dtype  \n",
      "---  ------            --------------  -----  \n",
      " 0   children          21402 non-null  int64  \n",
      " 1   days_employed     21402 non-null  float64\n",
      " 2   client_age        21402 non-null  float64\n",
      " 3   education         21402 non-null  object \n",
      " 4   education_id      21402 non-null  int64  \n",
      " 5   family_status     21402 non-null  object \n",
      " 6   family_status_id  21402 non-null  int64  \n",
      " 7   gender            21402 non-null  object \n",
      " 8   income_type       21402 non-null  object \n",
      " 9   debt              21402 non-null  int64  \n",
      " 10  total_income      21402 non-null  float64\n",
      " 11  purpose           21402 non-null  object \n",
      " 12  age_category      21402 non-null  object \n",
      "dtypes: float64(3), int64(4), object(6)\n",
      "memory usage: 2.3+ MB\n"
     ]
    }
   ],
   "source": [
    "#información general del nuevo DF\n",
    "df.info()"
   ]
  },
  {
   "cell_type": "markdown",
   "metadata": {
    "collapsed": false
   },
   "source": [
    "Todas las columnas tienen el mismo número de datos, no hay valores ausentes"
   ]
  },
  {
   "cell_type": "markdown",
   "metadata": {
    "collapsed": false
   },
   "source": [
    "## Clasificación de datos\n",
    "Nuevamente, hay que responder las las siguientes preguntas:\n",
    "- ¿Hay alguna conexión entre tener hijos y pagar un préstamo a tiempo?\n",
    "- ¿Existe una conexión entre el estado civil y el pago a tiempo de un préstamo?\n",
    "- ¿Existe una conexión entre el nivel de ingresos y el pago a tiempo de un préstamo?\n",
    "- ¿Cómo afectan los diferentes propósitos del préstamo al reembolso a tiempo del préstamo?\n",
    "\n",
    "Para ello hay que clasificar ciertos datos como:\n",
    "- los hijos\n",
    "- el estado civil\n",
    "- el nivel de ingresos\n",
    "- el propósito del prestamo"
   ]
  },
  {
   "cell_type": "markdown",
   "metadata": {
    "collapsed": false
   },
   "source": [
    "En cuanto a los datos categóricos, para la última hipótesis, se clasifican los propósitos"
   ]
  },
  {
   "cell_type": "code",
   "execution_count": 996,
   "metadata": {
    "collapsed": false,
    "scrolled": true
   },
   "outputs": [
    {
     "data": {
      "text/plain": [
       "array(['building a property', 'building a real estate',\n",
       "       'buy commercial real estate', 'buy real estate',\n",
       "       'buy residential real estate', 'buying property for renting out',\n",
       "       'car', 'construction of own property', 'education', 'housing',\n",
       "       'housing renovation', 'housing transactions', 'property',\n",
       "       'purchase of house', 'real estate transactions',\n",
       "       'transactions with commercial real estate', 'wedding'],\n",
       "      dtype=object)"
      ]
     },
     "execution_count": 996,
     "metadata": {
     },
     "output_type": "execute_result"
    }
   ],
   "source": [
    "#valores de la columna purpose\n",
    "df['purpose'].sort_values().unique()"
   ]
  },
  {
   "cell_type": "markdown",
   "metadata": {
    "collapsed": false
   },
   "source": [
    "Se separan los propósitos en grupos principales que son:\n",
    "- compra de un terreno y/o construcción\n",
    "- compra de un vehiculo\n",
    "- educación\n",
    "- boda"
   ]
  },
  {
   "cell_type": "code",
   "execution_count": 997,
   "metadata": {
    "collapsed": false
   },
   "outputs": [
   ],
   "source": [
    "#función para clasificar los propositos\n",
    "def purpose_category(data):\n",
    "    buy_build = ['buy commercial real estate','buy real estate','buy residential real estate','buying property for renting out',\n",
    "                 'purchase of house','building a property','building a real estate','construction of own property','housing', \n",
    "                 'housing renovation', 'housing transactions', 'property','real estate transactions',\n",
    "                 'transactions with commercial real estate']\n",
    "     \n",
    "    if data in buy_build:     return 'buy or build property'\n",
    "    elif data == 'car':       return 'car'\n",
    "    elif data == 'education': return 'education'\n",
    "    elif data == 'wedding':   return 'wedding'"
   ]
  },
  {
   "cell_type": "code",
   "execution_count": 998,
   "metadata": {
    "collapsed": false
   },
   "outputs": [
    {
     "data": {
      "text/html": [
       "<div>\n",
       "<style scoped>\n",
       "    .dataframe tbody tr th:only-of-type {\n",
       "        vertical-align: middle;\n",
       "    }\n",
       "\n",
       "    .dataframe tbody tr th {\n",
       "        vertical-align: top;\n",
       "    }\n",
       "\n",
       "    .dataframe thead th {\n",
       "        text-align: right;\n",
       "    }\n",
       "</style>\n",
       "<table border=\"1\" class=\"dataframe\">\n",
       "  <thead>\n",
       "    <tr style=\"text-align: right;\">\n",
       "      <th></th>\n",
       "      <th>children</th>\n",
       "      <th>days_employed</th>\n",
       "      <th>client_age</th>\n",
       "      <th>education</th>\n",
       "      <th>education_id</th>\n",
       "      <th>family_status</th>\n",
       "      <th>family_status_id</th>\n",
       "      <th>gender</th>\n",
       "      <th>income_type</th>\n",
       "      <th>debt</th>\n",
       "      <th>total_income</th>\n",
       "      <th>purpose</th>\n",
       "      <th>age_category</th>\n",
       "      <th>purpose_category</th>\n",
       "    </tr>\n",
       "  </thead>\n",
       "  <tbody>\n",
       "    <tr>\n",
       "      <th>0</th>\n",
       "      <td>1</td>\n",
       "      <td>8437.673028</td>\n",
       "      <td>42.0</td>\n",
       "      <td>bachelor's degree</td>\n",
       "      <td>0</td>\n",
       "      <td>married</td>\n",
       "      <td>0</td>\n",
       "      <td>F</td>\n",
       "      <td>employee</td>\n",
       "      <td>0</td>\n",
       "      <td>40620.102</td>\n",
       "      <td>purchase of house</td>\n",
       "      <td>40s</td>\n",
       "      <td>buy or build property</td>\n",
       "    </tr>\n",
       "    <tr>\n",
       "      <th>1</th>\n",
       "      <td>1</td>\n",
       "      <td>4024.803754</td>\n",
       "      <td>36.0</td>\n",
       "      <td>secondary education</td>\n",
       "      <td>1</td>\n",
       "      <td>married</td>\n",
       "      <td>0</td>\n",
       "      <td>F</td>\n",
       "      <td>employee</td>\n",
       "      <td>0</td>\n",
       "      <td>17932.802</td>\n",
       "      <td>car</td>\n",
       "      <td>30s</td>\n",
       "      <td>car</td>\n",
       "    </tr>\n",
       "    <tr>\n",
       "      <th>2</th>\n",
       "      <td>0</td>\n",
       "      <td>5623.422610</td>\n",
       "      <td>33.0</td>\n",
       "      <td>secondary education</td>\n",
       "      <td>1</td>\n",
       "      <td>married</td>\n",
       "      <td>0</td>\n",
       "      <td>M</td>\n",
       "      <td>employee</td>\n",
       "      <td>0</td>\n",
       "      <td>23341.752</td>\n",
       "      <td>purchase of house</td>\n",
       "      <td>30s</td>\n",
       "      <td>buy or build property</td>\n",
       "    </tr>\n",
       "    <tr>\n",
       "      <th>3</th>\n",
       "      <td>3</td>\n",
       "      <td>4124.747207</td>\n",
       "      <td>32.0</td>\n",
       "      <td>secondary education</td>\n",
       "      <td>1</td>\n",
       "      <td>married</td>\n",
       "      <td>0</td>\n",
       "      <td>M</td>\n",
       "      <td>employee</td>\n",
       "      <td>0</td>\n",
       "      <td>42820.568</td>\n",
       "      <td>education</td>\n",
       "      <td>30s</td>\n",
       "      <td>education</td>\n",
       "    </tr>\n",
       "    <tr>\n",
       "      <th>4</th>\n",
       "      <td>0</td>\n",
       "      <td>340266.072047</td>\n",
       "      <td>53.0</td>\n",
       "      <td>secondary education</td>\n",
       "      <td>1</td>\n",
       "      <td>civil partnership</td>\n",
       "      <td>1</td>\n",
       "      <td>F</td>\n",
       "      <td>retiree</td>\n",
       "      <td>0</td>\n",
       "      <td>25378.572</td>\n",
       "      <td>wedding</td>\n",
       "      <td>50s</td>\n",
       "      <td>wedding</td>\n",
       "    </tr>\n",
       "    <tr>\n",
       "      <th>5</th>\n",
       "      <td>0</td>\n",
       "      <td>926.185831</td>\n",
       "      <td>27.0</td>\n",
       "      <td>bachelor's degree</td>\n",
       "      <td>0</td>\n",
       "      <td>civil partnership</td>\n",
       "      <td>1</td>\n",
       "      <td>M</td>\n",
       "      <td>business</td>\n",
       "      <td>0</td>\n",
       "      <td>40922.170</td>\n",
       "      <td>purchase of house</td>\n",
       "      <td>20s</td>\n",
       "      <td>buy or build property</td>\n",
       "    </tr>\n",
       "    <tr>\n",
       "      <th>6</th>\n",
       "      <td>0</td>\n",
       "      <td>2879.202052</td>\n",
       "      <td>43.0</td>\n",
       "      <td>bachelor's degree</td>\n",
       "      <td>0</td>\n",
       "      <td>married</td>\n",
       "      <td>0</td>\n",
       "      <td>F</td>\n",
       "      <td>business</td>\n",
       "      <td>0</td>\n",
       "      <td>38484.156</td>\n",
       "      <td>housing transactions</td>\n",
       "      <td>40s</td>\n",
       "      <td>buy or build property</td>\n",
       "    </tr>\n",
       "    <tr>\n",
       "      <th>7</th>\n",
       "      <td>0</td>\n",
       "      <td>152.779569</td>\n",
       "      <td>50.0</td>\n",
       "      <td>secondary education</td>\n",
       "      <td>1</td>\n",
       "      <td>married</td>\n",
       "      <td>0</td>\n",
       "      <td>M</td>\n",
       "      <td>employee</td>\n",
       "      <td>0</td>\n",
       "      <td>21731.829</td>\n",
       "      <td>education</td>\n",
       "      <td>50s</td>\n",
       "      <td>education</td>\n",
       "    </tr>\n",
       "    <tr>\n",
       "      <th>8</th>\n",
       "      <td>2</td>\n",
       "      <td>6929.865299</td>\n",
       "      <td>35.0</td>\n",
       "      <td>bachelor's degree</td>\n",
       "      <td>0</td>\n",
       "      <td>civil partnership</td>\n",
       "      <td>1</td>\n",
       "      <td>F</td>\n",
       "      <td>employee</td>\n",
       "      <td>0</td>\n",
       "      <td>15337.093</td>\n",
       "      <td>wedding</td>\n",
       "      <td>30s</td>\n",
       "      <td>wedding</td>\n",
       "    </tr>\n",
       "    <tr>\n",
       "      <th>9</th>\n",
       "      <td>0</td>\n",
       "      <td>2188.756445</td>\n",
       "      <td>41.0</td>\n",
       "      <td>secondary education</td>\n",
       "      <td>1</td>\n",
       "      <td>married</td>\n",
       "      <td>0</td>\n",
       "      <td>M</td>\n",
       "      <td>employee</td>\n",
       "      <td>0</td>\n",
       "      <td>23108.150</td>\n",
       "      <td>purchase of house</td>\n",
       "      <td>40s</td>\n",
       "      <td>buy or build property</td>\n",
       "    </tr>\n",
       "  </tbody>\n",
       "</table>\n",
       "</div>"
      ],
      "text/plain": [
       "   children  days_employed  client_age            education  education_id  \\\n",
       "0         1    8437.673028        42.0    bachelor's degree             0   \n",
       "1         1    4024.803754        36.0  secondary education             1   \n",
       "2         0    5623.422610        33.0  secondary education             1   \n",
       "3         3    4124.747207        32.0  secondary education             1   \n",
       "4         0  340266.072047        53.0  secondary education             1   \n",
       "5         0     926.185831        27.0    bachelor's degree             0   \n",
       "6         0    2879.202052        43.0    bachelor's degree             0   \n",
       "7         0     152.779569        50.0  secondary education             1   \n",
       "8         2    6929.865299        35.0    bachelor's degree             0   \n",
       "9         0    2188.756445        41.0  secondary education             1   \n",
       "\n",
       "       family_status  family_status_id gender income_type  debt  total_income  \\\n",
       "0            married                 0      F    employee     0     40620.102   \n",
       "1            married                 0      F    employee     0     17932.802   \n",
       "2            married                 0      M    employee     0     23341.752   \n",
       "3            married                 0      M    employee     0     42820.568   \n",
       "4  civil partnership                 1      F     retiree     0     25378.572   \n",
       "5  civil partnership                 1      M    business     0     40922.170   \n",
       "6            married                 0      F    business     0     38484.156   \n",
       "7            married                 0      M    employee     0     21731.829   \n",
       "8  civil partnership                 1      F    employee     0     15337.093   \n",
       "9            married                 0      M    employee     0     23108.150   \n",
       "\n",
       "                purpose age_category       purpose_category  \n",
       "0     purchase of house          40s  buy or build property  \n",
       "1                   car          30s                    car  \n",
       "2     purchase of house          30s  buy or build property  \n",
       "3             education          30s              education  \n",
       "4               wedding          50s                wedding  \n",
       "5     purchase of house          20s  buy or build property  \n",
       "6  housing transactions          40s  buy or build property  \n",
       "7             education          50s              education  \n",
       "8               wedding          30s                wedding  \n",
       "9     purchase of house          40s  buy or build property  "
      ]
     },
     "execution_count": 998,
     "metadata": {
     },
     "output_type": "execute_result"
    }
   ],
   "source": [
    "#Crear columna con las categorías\n",
    "df ['purpose_category'] = df ['purpose'].apply(purpose_category)\n",
    "df.head(10)"
   ]
  },
  {
   "cell_type": "markdown",
   "metadata": {
    "collapsed": false
   },
   "source": [
    "En cuanto a los datos númericos, una de las clasificaciones es separar los clientes que no tienen hijos de los que si tienen para poder analizar a fondo la primer hipótesis."
   ]
  },
  {
   "cell_type": "code",
   "execution_count": 999,
   "metadata": {
    "collapsed": false
   },
   "outputs": [
   ],
   "source": [
    "#función para clasificacion de hijos\n",
    "def one_or_more_children(data):\n",
    "    if data == 0: return 'no'\n",
    "    else: return 'yes'"
   ]
  },
  {
   "cell_type": "code",
   "execution_count": 1000,
   "metadata": {
    "collapsed": false
   },
   "outputs": [
   ],
   "source": [
    "#Aplicar funcion de hijos al DF\n",
    "df['children>=1'] = df['children'].apply(one_or_more_children)"
   ]
  },
  {
   "cell_type": "code",
   "execution_count": 1001,
   "metadata": {
    "collapsed": false
   },
   "outputs": [
    {
     "data": {
      "text/html": [
       "<div>\n",
       "<style scoped>\n",
       "    .dataframe tbody tr th:only-of-type {\n",
       "        vertical-align: middle;\n",
       "    }\n",
       "\n",
       "    .dataframe tbody tr th {\n",
       "        vertical-align: top;\n",
       "    }\n",
       "\n",
       "    .dataframe thead th {\n",
       "        text-align: right;\n",
       "    }\n",
       "</style>\n",
       "<table border=\"1\" class=\"dataframe\">\n",
       "  <thead>\n",
       "    <tr style=\"text-align: right;\">\n",
       "      <th></th>\n",
       "      <th>children</th>\n",
       "      <th>days_employed</th>\n",
       "      <th>client_age</th>\n",
       "      <th>education</th>\n",
       "      <th>education_id</th>\n",
       "      <th>family_status</th>\n",
       "      <th>family_status_id</th>\n",
       "      <th>gender</th>\n",
       "      <th>income_type</th>\n",
       "      <th>debt</th>\n",
       "      <th>total_income</th>\n",
       "      <th>purpose</th>\n",
       "      <th>age_category</th>\n",
       "      <th>purpose_category</th>\n",
       "      <th>children&gt;=1</th>\n",
       "    </tr>\n",
       "  </thead>\n",
       "  <tbody>\n",
       "    <tr>\n",
       "      <th>0</th>\n",
       "      <td>1</td>\n",
       "      <td>8437.673028</td>\n",
       "      <td>42.0</td>\n",
       "      <td>bachelor's degree</td>\n",
       "      <td>0</td>\n",
       "      <td>married</td>\n",
       "      <td>0</td>\n",
       "      <td>F</td>\n",
       "      <td>employee</td>\n",
       "      <td>0</td>\n",
       "      <td>40620.102</td>\n",
       "      <td>purchase of house</td>\n",
       "      <td>40s</td>\n",
       "      <td>buy or build property</td>\n",
       "      <td>yes</td>\n",
       "    </tr>\n",
       "    <tr>\n",
       "      <th>1</th>\n",
       "      <td>1</td>\n",
       "      <td>4024.803754</td>\n",
       "      <td>36.0</td>\n",
       "      <td>secondary education</td>\n",
       "      <td>1</td>\n",
       "      <td>married</td>\n",
       "      <td>0</td>\n",
       "      <td>F</td>\n",
       "      <td>employee</td>\n",
       "      <td>0</td>\n",
       "      <td>17932.802</td>\n",
       "      <td>car</td>\n",
       "      <td>30s</td>\n",
       "      <td>car</td>\n",
       "      <td>yes</td>\n",
       "    </tr>\n",
       "    <tr>\n",
       "      <th>2</th>\n",
       "      <td>0</td>\n",
       "      <td>5623.422610</td>\n",
       "      <td>33.0</td>\n",
       "      <td>secondary education</td>\n",
       "      <td>1</td>\n",
       "      <td>married</td>\n",
       "      <td>0</td>\n",
       "      <td>M</td>\n",
       "      <td>employee</td>\n",
       "      <td>0</td>\n",
       "      <td>23341.752</td>\n",
       "      <td>purchase of house</td>\n",
       "      <td>30s</td>\n",
       "      <td>buy or build property</td>\n",
       "      <td>no</td>\n",
       "    </tr>\n",
       "    <tr>\n",
       "      <th>3</th>\n",
       "      <td>3</td>\n",
       "      <td>4124.747207</td>\n",
       "      <td>32.0</td>\n",
       "      <td>secondary education</td>\n",
       "      <td>1</td>\n",
       "      <td>married</td>\n",
       "      <td>0</td>\n",
       "      <td>M</td>\n",
       "      <td>employee</td>\n",
       "      <td>0</td>\n",
       "      <td>42820.568</td>\n",
       "      <td>education</td>\n",
       "      <td>30s</td>\n",
       "      <td>education</td>\n",
       "      <td>yes</td>\n",
       "    </tr>\n",
       "    <tr>\n",
       "      <th>4</th>\n",
       "      <td>0</td>\n",
       "      <td>340266.072047</td>\n",
       "      <td>53.0</td>\n",
       "      <td>secondary education</td>\n",
       "      <td>1</td>\n",
       "      <td>civil partnership</td>\n",
       "      <td>1</td>\n",
       "      <td>F</td>\n",
       "      <td>retiree</td>\n",
       "      <td>0</td>\n",
       "      <td>25378.572</td>\n",
       "      <td>wedding</td>\n",
       "      <td>50s</td>\n",
       "      <td>wedding</td>\n",
       "      <td>no</td>\n",
       "    </tr>\n",
       "  </tbody>\n",
       "</table>\n",
       "</div>"
      ],
      "text/plain": [
       "   children  days_employed  client_age            education  education_id  \\\n",
       "0         1    8437.673028        42.0    bachelor's degree             0   \n",
       "1         1    4024.803754        36.0  secondary education             1   \n",
       "2         0    5623.422610        33.0  secondary education             1   \n",
       "3         3    4124.747207        32.0  secondary education             1   \n",
       "4         0  340266.072047        53.0  secondary education             1   \n",
       "\n",
       "       family_status  family_status_id gender income_type  debt  total_income  \\\n",
       "0            married                 0      F    employee     0     40620.102   \n",
       "1            married                 0      F    employee     0     17932.802   \n",
       "2            married                 0      M    employee     0     23341.752   \n",
       "3            married                 0      M    employee     0     42820.568   \n",
       "4  civil partnership                 1      F     retiree     0     25378.572   \n",
       "\n",
       "             purpose age_category       purpose_category children>=1  \n",
       "0  purchase of house          40s  buy or build property         yes  \n",
       "1                car          30s                    car         yes  \n",
       "2  purchase of house          30s  buy or build property          no  \n",
       "3          education          30s              education         yes  \n",
       "4            wedding          50s                wedding          no  "
      ]
     },
     "execution_count": 1001,
     "metadata": {
     },
     "output_type": "execute_result"
    }
   ],
   "source": [
    "#Comprobando columna nueva\n",
    "df.head()"
   ]
  },
  {
   "cell_type": "code",
   "execution_count": 1002,
   "metadata": {
    "collapsed": false
   },
   "outputs": [
    {
     "data": {
      "text/plain": [
       "children\n",
       "0    14149\n",
       "1     4818\n",
       "2     2055\n",
       "3      330\n",
       "4       41\n",
       "5        9\n",
       "Name: children, dtype: int64"
      ]
     },
     "execution_count": 1002,
     "metadata": {
     },
     "output_type": "execute_result"
    }
   ],
   "source": [
    "#Estadísticas resumidas de la columna\n",
    "df.groupby('children')['children'].count()"
   ]
  },
  {
   "cell_type": "markdown",
   "metadata": {
    "collapsed": false
   },
   "source": [
    "Otra clasificación que hay que tomar en cuenta para comprobar la tercer hipótesis es el nivel de ingresos al separar en categorías el ingreso total"
   ]
  },
  {
   "cell_type": "code",
   "execution_count": 1003,
   "metadata": {
    "collapsed": false
   },
   "outputs": [
   ],
   "source": [
    "#Función para clasificar el ingreso total en rangos\n",
    "def income_level(data):\n",
    "    if data < 10000:  return 'less than 10,000'\n",
    "    elif data <20000: return '10,000 - 19,999'\n",
    "    elif data <30000: return '20,000 - 29,999'\n",
    "    else: return 'more than 30,000'"
   ]
  },
  {
   "cell_type": "code",
   "execution_count": 1004,
   "metadata": {
    "collapsed": false
   },
   "outputs": [
    {
     "data": {
      "text/html": [
       "<div>\n",
       "<style scoped>\n",
       "    .dataframe tbody tr th:only-of-type {\n",
       "        vertical-align: middle;\n",
       "    }\n",
       "\n",
       "    .dataframe tbody tr th {\n",
       "        vertical-align: top;\n",
       "    }\n",
       "\n",
       "    .dataframe thead th {\n",
       "        text-align: right;\n",
       "    }\n",
       "</style>\n",
       "<table border=\"1\" class=\"dataframe\">\n",
       "  <thead>\n",
       "    <tr style=\"text-align: right;\">\n",
       "      <th></th>\n",
       "      <th>children</th>\n",
       "      <th>days_employed</th>\n",
       "      <th>client_age</th>\n",
       "      <th>education</th>\n",
       "      <th>education_id</th>\n",
       "      <th>family_status</th>\n",
       "      <th>family_status_id</th>\n",
       "      <th>gender</th>\n",
       "      <th>income_type</th>\n",
       "      <th>debt</th>\n",
       "      <th>total_income</th>\n",
       "      <th>purpose</th>\n",
       "      <th>age_category</th>\n",
       "      <th>purpose_category</th>\n",
       "      <th>children&gt;=1</th>\n",
       "      <th>income_level</th>\n",
       "    </tr>\n",
       "  </thead>\n",
       "  <tbody>\n",
       "    <tr>\n",
       "      <th>0</th>\n",
       "      <td>1</td>\n",
       "      <td>8437.673028</td>\n",
       "      <td>42.0</td>\n",
       "      <td>bachelor's degree</td>\n",
       "      <td>0</td>\n",
       "      <td>married</td>\n",
       "      <td>0</td>\n",
       "      <td>F</td>\n",
       "      <td>employee</td>\n",
       "      <td>0</td>\n",
       "      <td>40620.102</td>\n",
       "      <td>purchase of house</td>\n",
       "      <td>40s</td>\n",
       "      <td>buy or build property</td>\n",
       "      <td>yes</td>\n",
       "      <td>more than 30,000</td>\n",
       "    </tr>\n",
       "    <tr>\n",
       "      <th>1</th>\n",
       "      <td>1</td>\n",
       "      <td>4024.803754</td>\n",
       "      <td>36.0</td>\n",
       "      <td>secondary education</td>\n",
       "      <td>1</td>\n",
       "      <td>married</td>\n",
       "      <td>0</td>\n",
       "      <td>F</td>\n",
       "      <td>employee</td>\n",
       "      <td>0</td>\n",
       "      <td>17932.802</td>\n",
       "      <td>car</td>\n",
       "      <td>30s</td>\n",
       "      <td>car</td>\n",
       "      <td>yes</td>\n",
       "      <td>10,000 - 19,999</td>\n",
       "    </tr>\n",
       "    <tr>\n",
       "      <th>2</th>\n",
       "      <td>0</td>\n",
       "      <td>5623.422610</td>\n",
       "      <td>33.0</td>\n",
       "      <td>secondary education</td>\n",
       "      <td>1</td>\n",
       "      <td>married</td>\n",
       "      <td>0</td>\n",
       "      <td>M</td>\n",
       "      <td>employee</td>\n",
       "      <td>0</td>\n",
       "      <td>23341.752</td>\n",
       "      <td>purchase of house</td>\n",
       "      <td>30s</td>\n",
       "      <td>buy or build property</td>\n",
       "      <td>no</td>\n",
       "      <td>20,000 - 29,999</td>\n",
       "    </tr>\n",
       "    <tr>\n",
       "      <th>3</th>\n",
       "      <td>3</td>\n",
       "      <td>4124.747207</td>\n",
       "      <td>32.0</td>\n",
       "      <td>secondary education</td>\n",
       "      <td>1</td>\n",
       "      <td>married</td>\n",
       "      <td>0</td>\n",
       "      <td>M</td>\n",
       "      <td>employee</td>\n",
       "      <td>0</td>\n",
       "      <td>42820.568</td>\n",
       "      <td>education</td>\n",
       "      <td>30s</td>\n",
       "      <td>education</td>\n",
       "      <td>yes</td>\n",
       "      <td>more than 30,000</td>\n",
       "    </tr>\n",
       "    <tr>\n",
       "      <th>4</th>\n",
       "      <td>0</td>\n",
       "      <td>340266.072047</td>\n",
       "      <td>53.0</td>\n",
       "      <td>secondary education</td>\n",
       "      <td>1</td>\n",
       "      <td>civil partnership</td>\n",
       "      <td>1</td>\n",
       "      <td>F</td>\n",
       "      <td>retiree</td>\n",
       "      <td>0</td>\n",
       "      <td>25378.572</td>\n",
       "      <td>wedding</td>\n",
       "      <td>50s</td>\n",
       "      <td>wedding</td>\n",
       "      <td>no</td>\n",
       "      <td>20,000 - 29,999</td>\n",
       "    </tr>\n",
       "  </tbody>\n",
       "</table>\n",
       "</div>"
      ],
      "text/plain": [
       "   children  days_employed  client_age            education  education_id  \\\n",
       "0         1    8437.673028        42.0    bachelor's degree             0   \n",
       "1         1    4024.803754        36.0  secondary education             1   \n",
       "2         0    5623.422610        33.0  secondary education             1   \n",
       "3         3    4124.747207        32.0  secondary education             1   \n",
       "4         0  340266.072047        53.0  secondary education             1   \n",
       "\n",
       "       family_status  family_status_id gender income_type  debt  total_income  \\\n",
       "0            married                 0      F    employee     0     40620.102   \n",
       "1            married                 0      F    employee     0     17932.802   \n",
       "2            married                 0      M    employee     0     23341.752   \n",
       "3            married                 0      M    employee     0     42820.568   \n",
       "4  civil partnership                 1      F     retiree     0     25378.572   \n",
       "\n",
       "             purpose age_category       purpose_category children>=1  \\\n",
       "0  purchase of house          40s  buy or build property         yes   \n",
       "1                car          30s                    car         yes   \n",
       "2  purchase of house          30s  buy or build property          no   \n",
       "3          education          30s              education         yes   \n",
       "4            wedding          50s                wedding          no   \n",
       "\n",
       "       income_level  \n",
       "0  more than 30,000  \n",
       "1   10,000 - 19,999  \n",
       "2   20,000 - 29,999  \n",
       "3  more than 30,000  \n",
       "4   20,000 - 29,999  "
      ]
     },
     "execution_count": 1004,
     "metadata": {
     },
     "output_type": "execute_result"
    }
   ],
   "source": [
    "#Crear columna con categorías de ingresos totales\n",
    "df['income_level'] = df['total_income'].apply(income_level)\n",
    "df.head()"
   ]
  },
  {
   "cell_type": "code",
   "execution_count": 1005,
   "metadata": {
    "collapsed": false,
    "scrolled": true
   },
   "outputs": [
    {
     "data": {
      "text/plain": [
       "income_level\n",
       "less than 10,000     921\n",
       "more than 30,000    5888\n",
       "10,000 - 19,999     6674\n",
       "20,000 - 29,999     7919\n",
       "Name: children, dtype: int64"
      ]
     },
     "execution_count": 1005,
     "metadata": {
     },
     "output_type": "execute_result"
    }
   ],
   "source": [
    "# Contar los valores de cada categoría para ver la distribución\n",
    "df.groupby('income_level')['children'].count().sort_values()"
   ]
  },
  {
   "cell_type": "markdown",
   "metadata": {
    "collapsed": false
   },
   "source": [
    "## Comprobación de las hipótesis\n",
    "\n"
   ]
  },
  {
   "cell_type": "markdown",
   "metadata": {
    "collapsed": false
   },
   "source": [
    "**¿Existe una correlación entre tener hijos y pagar a tiempo?**"
   ]
  },
  {
   "cell_type": "code",
   "execution_count": 1006,
   "metadata": {
    "collapsed": false
   },
   "outputs": [
    {
     "data": {
      "text/plain": [
       "children\n",
       "0    7.512898\n",
       "1    9.215442\n",
       "2    9.440389\n",
       "3    8.181818\n",
       "4    9.756098\n",
       "5         NaN\n",
       "dtype: float64"
      ]
     },
     "execution_count": 1006,
     "metadata": {
     },
     "output_type": "execute_result"
    }
   ],
   "source": [
    "#Se filtran los clientes que si han incumplido\n",
    "df_debt1 = df[df['debt']==1]\n",
    "df_children_debt1 = df_debt1.groupby('children')['debt'].count()\n",
    "\n",
    "# Calcular la tasa de incumplimiento en función del número de hijos\n",
    "total_per_children = df.groupby('children')['days_employed'].count()\n",
    "(df_children_debt1 / total_per_children) *100"
   ]
  },
  {
   "cell_type": "markdown",
   "metadata": {
    "collapsed": false
   },
   "source": [
    "Los datos anteriores muestran el porcentaje de clientes que han incumplido prestamos por cantidad de hijos; es decir el 7.5% de los clientes con 0 hijos han incumplido el pago de prestamos y así sucesivamente."
   ]
  },
  {
   "cell_type": "code",
   "execution_count": 1007,
   "metadata": {
    "collapsed": false
   },
   "outputs": [
    {
     "data": {
      "text/plain": [
       "children>=1\n",
       "no     4.966826\n",
       "yes    3.125876\n",
       "Name: debt, dtype: float64"
      ]
     },
     "execution_count": 1007,
     "metadata": {
     },
     "output_type": "execute_result"
    }
   ],
   "source": [
    "#Calcular la tasa de incumplimiento en función de si tiene o no hijos\n",
    "df_children_debt2 = df_children_debt.groupby('children>=1')['debt'].count()\n",
    "df_children_debt2/21402 *100"
   ]
  },
  {
   "cell_type": "markdown",
   "metadata": {
    "collapsed": false
   },
   "source": [
    "**Conclusión**\n",
    "\n",
    "Al analizar la tasa de incumplimiento separando a los clientes por la cantidad de hijos que tienen, todos los porcentajes oscilan entre el 7 y el 10%, de su correspondiente categoría, por lo que aparentemente no influye. \n",
    "\n",
    "Al analizar la tasa tomando en cuenta si los clientes tienen o no hijos, se observa que los que no tienen hijos tienden casi un 2% más a incumplir en el pago que los que si tienen hijos; esto es que tienen incumplimiento de pago:\n",
    "- el 4.97% de los clientes sin hijos\n",
    "- el 3.12% de los clientes con hijos"
   ]
  },
  {
   "cell_type": "markdown",
   "metadata": {
    "collapsed": false
   },
   "source": [
    "**¿Existe una correlación entre la situación familiar y el pago a tiempo?**\n",
    "\n"
   ]
  },
  {
   "cell_type": "code",
   "execution_count": 1008,
   "metadata": {
    "collapsed": false
   },
   "outputs": [
    {
     "data": {
      "text/plain": [
       "family_status\n",
       "widow / widower      6.617647\n",
       "divorced             7.064760\n",
       "married              7.535360\n",
       "civil partnership    9.254808\n",
       "unmarried            9.753483\n",
       "Name: debt, dtype: float64"
      ]
     },
     "execution_count": 1008,
     "metadata": {
     },
     "output_type": "execute_result"
    }
   ],
   "source": [
    "#Analizar los datos del estado familiar y los pagos a tiempo\n",
    "df_family_st_debt1 = df_debt1.groupby('family_status')['debt'].count()\n",
    "\n",
    "# Calcular la tasa de incumplimiento basada en el estado familiar\n",
    "total_per_family_st = df.groupby('family_status')['debt'].count()\n",
    "(df_family_st_debt1 / total_per_family_st *100).sort_values()"
   ]
  },
  {
   "cell_type": "markdown",
   "metadata": {
    "collapsed": false
   },
   "source": [
    "**Conclusión**\n",
    "\n",
    "Al analizar el estatus familiar se observa que los viudos tienen a pagar aproximadamente un 3% más que los que se encuentran en una union civil y que los que no estan casados.\n",
    "\n",
    "Tomando en cuenta el análisis anterior, se pueden separar en 3 categorías, donde el incumplimiento de pago lo tienen: \n",
    "- el 6.62% de los viudos y viudas\n",
    "- el 7-7.54% de los divorciados y casados\n",
    "- el 9-9.75% de los de union civil y solteros"
   ]
  },
  {
   "cell_type": "markdown",
   "metadata": {
    "collapsed": false
   },
   "source": [
    "**¿Existe una correlación entre el nivel de ingresos y el pago a tiempo?**"
   ]
  },
  {
   "cell_type": "code",
   "execution_count": 1009,
   "metadata": {
    "collapsed": false
   },
   "outputs": [
    {
     "data": {
      "text/plain": [
       "income_level\n",
       "less than 10,000    6.297503\n",
       "more than 30,000    7.370924\n",
       "10,000 - 19,999     8.435721\n",
       "20,000 - 29,999     8.549059\n",
       "Name: debt, dtype: float64"
      ]
     },
     "execution_count": 1009,
     "metadata": {
     },
     "output_type": "execute_result"
    }
   ],
   "source": [
    "# Analizar los datos del nivel de ingresos y los pagos a tiempo\n",
    "df_income_level_debt1 = df_debt1.groupby('income_level')['debt'].count()\n",
    "\n",
    "# Calcular la tasa de incumplimiento basada en el nivel de ingresos\n",
    "total_per_income_level = df.groupby('income_level')['debt'].count()\n",
    "(df_income_level_debt1/total_per_income_level*100).sort_values()"
   ]
  },
  {
   "cell_type": "markdown",
   "metadata": {
    "collapsed": false
   },
   "source": [
    "**Conclusión**\n",
    "\n",
    "En base a este análisis se afirma que tienen incumplimiento de pago:\n",
    "- el 6.29% de los clientes que ganan menos de 10,000 \n",
    "- el 7.37% de los que ganan más de 30,000\n",
    "- el 8.44% - 8.55% de los cliente que ganan entre 10,000 y 29,999"
   ]
  },
  {
   "cell_type": "markdown",
   "metadata": {
    "collapsed": false
   },
   "source": [
    "**¿Cómo afecta el propósito del crédito a la tasa de incumplimiento?**"
   ]
  },
  {
   "cell_type": "code",
   "execution_count": 1010,
   "metadata": {
    "collapsed": false
   },
   "outputs": [
    {
     "data": {
      "text/plain": [
       "purpose_category\n",
       "buy or build property    7.235622\n",
       "wedding                  7.830552\n",
       "education                9.231924\n",
       "car                      9.328358\n",
       "Name: debt, dtype: float64"
      ]
     },
     "execution_count": 1010,
     "metadata": {
     },
     "output_type": "execute_result"
    }
   ],
   "source": [
    "# Analizar los datos de cada propósito del crédito y los pagos a tiempo\n",
    "df_purpose_debt1 = df_debt1.groupby('purpose_category')['debt'].count()\n",
    "\n",
    "# Calcular la tasa de incumplimiento basada en el propósito\n",
    "total_per_purpose = df.groupby('purpose_category')['debt'].count()\n",
    "(df_purpose_debt1/total_per_purpose*100).sort_values()"
   ]
  },
  {
   "cell_type": "markdown",
   "metadata": {
    "collapsed": false
   },
   "source": [
    "**Conclusión**\n",
    "\n",
    "Tomando en cuenta lo anterior, se observa que en cuanto al propósito tienen incumplimiento de pago:\n",
    "- el 7.24% - 7.83 de los clientes cuyo propósito está relacionado con terrenos y bodas\n",
    "- el 9.23% - 9.33% de los clientes cuyo propósito está relacionado con educación y vehiculos"
   ]
  },
  {
   "cell_type": "markdown",
   "metadata": {
    "collapsed": false
   },
   "source": [
    "# Conclusión general \n",
    "\n",
    "En cuanto a los datos usados para el análisis, se puede afirmar que:\n",
    "\n",
    "- menos del 1% de los valores en la columna `dob_years` (cambiada a `client_age`) y `children` eran erróneos\n",
    "- hay un error en captura de la columna `days employed` pues más del 70% de estos datos eran negativos y se asumieron positivos\n",
    "- hay un error de captura en las columnas `days employed` y `total_income` pues faltaba el 11% de sus datos en las mismas filas\n",
    "- En las columnas categóricas como `education` y `purpose` sería útil el darle opciones a quien llene los datos para evitar tener respuestas iguales escritas de diferente forma pues fue necesario hacerles modificaciones y clasificarlas \n",
    "\n",
    "En cuanto a las preguntas planteadas, se determinó lo siguiente:\n",
    "\n",
    "**Clientes con o sin hijos**\n",
    "\n",
    "- El 4.97% de los clientes sin hijos tienden a incumplir a diferencia del 3.12% de los clientes con hijos; es decir casi un 2% de diferencia.\n",
    "\n",
    "**Estatus familiar de los clientes**\n",
    "\n",
    "- el 6.62% de los viudos y viudas tienden a incumplir\n",
    "- entre el 7% y 7.54% de los divorciados y casados tienden a incumplir\n",
    "- entre el 9% y 9.75% de los de union civil y solteros tienden a incumplir. Esto es una diferencia de casi 3% entre los primeros y los últimos mencionados.\n",
    "\n",
    "**Nivel de ingreso de los clientes**\n",
    "\n",
    "- el 6.29% de los clientes que ganan menos de 10,000 tienden a incumplir\n",
    "- el 7.37% de los que ganan más de 30,000 tienden a incumplir\n",
    "- entre el 8.44% y 8.55% de los cliente que ganan entre 10,000 y 29,999 tienden a incumplir. Hay una diferencia de más de 2% entre la primer y última categoría.\n",
    "\n",
    "**Propósito del prestamo de los clientes**\n",
    "\n",
    "- aproximadamente 7% de los clientes cuyo propósito está relacionado con terrenos y bodas tienden a incumplir\n",
    "- aproximadamente 9% de los clientes cuyo propósito está relacionado con educación y vehiculos tienden a incumplir. La tasa de diferencia en base a los propositos es de aproximadamente 2%.\n",
    "\n"
   ]
  }
 ],
 "metadata": {
  "ExecuteTimeLog": [
   {
    "duration": 2741,
    "start_time": "2021-10-21T01:08:49.480Z"
   },
   {
    "duration": 52,
    "start_time": "2021-10-21T01:08:53.315Z"
   },
   {
    "duration": 49,
    "start_time": "2021-10-21T01:08:57.432Z"
   },
   {
    "duration": 70,
    "start_time": "2021-10-21T01:09:07.706Z"
   }
  ],
  "kernelspec": {
   "argv": [
    "/usr/bin/python3",
    "-m",
    "ipykernel",
    "--HistoryManager.enabled=False",
    "--matplotlib=inline",
    "-c",
    "%config InlineBackend.figure_formats = set(['retina'])\nimport matplotlib; matplotlib.rcParams['figure.figsize'] = (12, 7)",
    "-f",
    "{connection_file}"
   ],
   "display_name": "Python 3 (system-wide)",
   "env": {
   },
   "language": "python",
   "metadata": {
    "cocalc": {
     "description": "Python 3 programming language",
     "priority": 100,
     "url": "https://www.python.org/"
    }
   },
   "name": "python3",
   "resource_dir": "/ext/jupyter/kernels/python3"
  },
  "language_info": {
   "codemirror_mode": {
    "name": "ipython",
    "version": 3
   },
   "file_extension": ".py",
   "mimetype": "text/x-python",
   "name": "python",
   "nbconvert_exporter": "python",
   "pygments_lexer": "ipython3",
   "version": "3.10.6"
  },
  "toc": {
   "base_numbering": 1,
   "nav_menu": {
   },
   "number_sections": true,
   "sideBar": true,
   "skip_h1_title": true,
   "title_cell": "Table of Contents",
   "title_sidebar": "Contents",
   "toc_cell": false,
   "toc_position": {
   },
   "toc_section_display": true,
   "toc_window_display": false
  }
 },
 "nbformat": 4,
 "nbformat_minor": 4
}